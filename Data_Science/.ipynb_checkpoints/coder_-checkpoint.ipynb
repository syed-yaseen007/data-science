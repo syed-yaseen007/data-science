{
 "cells": [
  {
   "cell_type": "code",
   "execution_count": 1,
   "id": "058e4f39-3af6-4df9-bb71-350deb8fa31a",
   "metadata": {},
   "outputs": [],
   "source": [
    "import json"
   ]
  },
  {
   "cell_type": "code",
   "execution_count": 14,
   "id": "d1a4a1e7-dca0-4287-8364-7b7aa3d6e9b2",
   "metadata": {},
   "outputs": [],
   "source": [
    "def load_data(filename):\n",
    "    with open(filename,\"r\") as f:\n",
    "        data = json.load(f)\n",
    "    return data"
   ]
  },
  {
   "cell_type": "code",
   "execution_count": 16,
   "id": "e7f404a8-f416-4921-956b-095517607dcd",
   "metadata": {},
   "outputs": [],
   "source": [
    "data = load_data(\"data.json\")"
   ]
  },
  {
   "cell_type": "code",
   "execution_count": 45,
   "id": "388fbf02-553f-4d86-9575-a59a3eddec1e",
   "metadata": {},
   "outputs": [],
   "source": [
    "# Display user name and friends and liked pages\n",
    "def display_users(data):\n",
    "    print(\"Users and Their Connections:\\n\")\n",
    "    for user in data['users']:\n",
    "        print(f\"{user['name']} (ID: {user['id']}) - Friends: {user['friends']} - Liked pages: {user['liked_pages']})\")\n",
    "    print(\"\\nPages Information\\n\")\n",
    "    for user in data['pages']:\n",
    "        print(f\"{user['id']}: { user['name']}\")\n",
    "        "
   ]
  },
  {
   "cell_type": "code",
   "execution_count": 46,
   "id": "6f9727e7-40f5-49cc-84a8-0c90c5623239",
   "metadata": {},
   "outputs": [
    {
     "name": "stdout",
     "output_type": "stream",
     "text": [
      "Users and Their Connections:\n",
      "\n",
      "Amit (ID: 1) - Friends: [2, 3] - Liked pages: [101])\n",
      "Priya (ID: 2) - Friends: [1, 4] - Liked pages: [102])\n",
      "Rahul (ID: 3) - Friends: [1] - Liked pages: [101, 103])\n",
      "Sara (ID: 4) - Friends: [2] - Liked pages: [104])\n",
      "\n",
      "Pages Information\n",
      "\n",
      "101: Python Developers\n",
      "102: Data Science Enthusiasts\n",
      "103: AI & ML Community\n",
      "104: Web Dev Hub\n"
     ]
    }
   ],
   "source": [
    "display_users(data)"
   ]
  },
  {
   "cell_type": "code",
   "execution_count": null,
   "id": "958b0b10-0a61-4385-a883-97564cb70d66",
   "metadata": {},
   "outputs": [],
   "source": [
    "Amit (ID: 1) - Friends: [2, 3] - Liked Pages: [101]"
   ]
  },
  {
   "cell_type": "code",
   "execution_count": null,
   "id": "0acfb48e-95d9-4772-87db-1d98653e84fb",
   "metadata": {},
   "outputs": [],
   "source": [
    "101: Python Developers"
   ]
  }
 ],
 "metadata": {
  "kernelspec": {
   "display_name": "Python 3 (ipykernel)",
   "language": "python",
   "name": "python3"
  },
  "language_info": {
   "codemirror_mode": {
    "name": "ipython",
    "version": 3
   },
   "file_extension": ".py",
   "mimetype": "text/x-python",
   "name": "python",
   "nbconvert_exporter": "python",
   "pygments_lexer": "ipython3",
   "version": "3.13.5"
  }
 },
 "nbformat": 4,
 "nbformat_minor": 5
}

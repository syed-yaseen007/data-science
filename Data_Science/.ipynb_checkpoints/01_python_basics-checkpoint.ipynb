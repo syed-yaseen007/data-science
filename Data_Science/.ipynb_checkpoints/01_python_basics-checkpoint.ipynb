{
 "cells": [
  {
   "cell_type": "code",
   "execution_count": 1,
   "id": "8f7f2d45-514e-4052-a989-8f8824ab87b4",
   "metadata": {},
   "outputs": [],
   "source": [
    "a = 40"
   ]
  },
  {
   "cell_type": "code",
   "execution_count": 2,
   "id": "5cb15973-e42d-402d-9e97-d73736b8e403",
   "metadata": {},
   "outputs": [],
   "source": [
    "b = 20"
   ]
  },
  {
   "cell_type": "code",
   "execution_count": 3,
   "id": "348ceebb-95ea-4344-b574-be4a1a4dfce3",
   "metadata": {},
   "outputs": [
    {
     "data": {
      "text/plain": [
       "60"
      ]
     },
     "execution_count": 3,
     "metadata": {},
     "output_type": "execute_result"
    }
   ],
   "source": [
    "a + b"
   ]
  },
  {
   "cell_type": "code",
   "execution_count": 4,
   "id": "0eed1d53-7875-4966-823d-addf9ef4e4da",
   "metadata": {},
   "outputs": [],
   "source": [
    "name = \"Akhileshwar\"\n"
   ]
  },
  {
   "cell_type": "code",
   "execution_count": 5,
   "id": "b928d61c-22a6-4ead-a8e5-32b1b0f3fa50",
   "metadata": {},
   "outputs": [
    {
     "name": "stdout",
     "output_type": "stream",
     "text": [
      "Akhileshwar\n"
     ]
    }
   ],
   "source": [
    "print(name)"
   ]
  },
  {
   "cell_type": "code",
   "execution_count": 6,
   "id": "ee5a89e2-c6d7-41cd-803f-7b9781483656",
   "metadata": {},
   "outputs": [],
   "source": [
    "a = \"40\""
   ]
  },
  {
   "cell_type": "code",
   "execution_count": 7,
   "id": "750de4f0-747d-4c08-aa50-e76f322f6c2b",
   "metadata": {},
   "outputs": [],
   "source": [
    "b = \"50\""
   ]
  },
  {
   "cell_type": "code",
   "execution_count": 8,
   "id": "08ba7e0c-318c-411b-b69c-3f255ca0fb09",
   "metadata": {},
   "outputs": [
    {
     "name": "stdout",
     "output_type": "stream",
     "text": [
      "4050\n"
     ]
    }
   ],
   "source": [
    "print(a + b)"
   ]
  },
  {
   "cell_type": "code",
   "execution_count": 9,
   "id": "b541a5ec-4e15-4ef8-b2cd-e815b2336736",
   "metadata": {},
   "outputs": [
    {
     "data": {
      "text/plain": [
       "90"
      ]
     },
     "execution_count": 9,
     "metadata": {},
     "output_type": "execute_result"
    }
   ],
   "source": [
    "int(a) + int(b)"
   ]
  },
  {
   "cell_type": "code",
   "execution_count": 10,
   "id": "b35e6ab9-bbbc-47f5-983c-e88783e12d23",
   "metadata": {},
   "outputs": [
    {
     "data": {
      "text/plain": [
       "str"
      ]
     },
     "execution_count": 10,
     "metadata": {},
     "output_type": "execute_result"
    }
   ],
   "source": [
    "type(a)"
   ]
  },
  {
   "cell_type": "code",
   "execution_count": 11,
   "id": "f5fa9514-d149-4e05-80cf-62a9f29884a8",
   "metadata": {},
   "outputs": [
    {
     "data": {
      "text/plain": [
       "str"
      ]
     },
     "execution_count": 11,
     "metadata": {},
     "output_type": "execute_result"
    }
   ],
   "source": [
    "type(b)"
   ]
  },
  {
   "cell_type": "code",
   "execution_count": 12,
   "id": "df0f7f89-991f-4499-92b2-7b3a55a9c2ff",
   "metadata": {},
   "outputs": [],
   "source": [
    "a = 30"
   ]
  },
  {
   "cell_type": "code",
   "execution_count": 13,
   "id": "fabbe79c-572c-4e8e-b40e-eae2d9e1a56d",
   "metadata": {},
   "outputs": [
    {
     "data": {
      "text/plain": [
       "int"
      ]
     },
     "execution_count": 13,
     "metadata": {},
     "output_type": "execute_result"
    }
   ],
   "source": [
    "type(a)\n"
   ]
  },
  {
   "cell_type": "code",
   "execution_count": null,
   "id": "64f4eed7-84bf-429b-b335-894dbddd09f6",
   "metadata": {},
   "outputs": [],
   "source": []
  }
 ],
 "metadata": {
  "kernelspec": {
   "display_name": "Python 3 (ipykernel)",
   "language": "python",
   "name": "python3"
  },
  "language_info": {
   "codemirror_mode": {
    "name": "ipython",
    "version": 3
   },
   "file_extension": ".py",
   "mimetype": "text/x-python",
   "name": "python",
   "nbconvert_exporter": "python",
   "pygments_lexer": "ipython3",
   "version": "3.13.5"
  }
 },
 "nbformat": 4,
 "nbformat_minor": 5
}

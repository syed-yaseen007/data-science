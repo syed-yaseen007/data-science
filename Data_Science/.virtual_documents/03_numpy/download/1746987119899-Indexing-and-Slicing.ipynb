import numpy as np
arr = np.array([[1, 2, 3], [4, 5, 6], [7, 8, 9], [11, 12, 13]])


arr


flat = arr.flatten()


flat


flat[0]


flat[3: 6]


flat[:5] # same as flat[0:5]


flat[3:] # same as flat[3:13]


flat[3:13]


flat


b = flat[3:7].copy() # This is not a slice because we are using copy method to get the copy


b


b[0] = 444444666


b


flat


arr = np.array([1, 54, 23, 53, 2, 3, 34, 5, 6])


arr[[1, 4, 6]]


arr[arr>23]




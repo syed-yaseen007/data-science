import numpy as np


arr = np.array([23, 4,3,23 ])


arr.dtype


arr.astype("float64")


arr2 = np.array([23, 4,3,23 ], dtype="float32")


arr2


arr2.nbytes


arr.nbytes


arr_int64 = np.array([1, 2, 3], dtype=np.int64)
arr_int32 = np.array([1, 2, 3], dtype=np.int32)
print(arr_int64.nbytes) # Output: 24 bytes (3 elements * 8 bytes each)
print(arr_int32.nbytes) 




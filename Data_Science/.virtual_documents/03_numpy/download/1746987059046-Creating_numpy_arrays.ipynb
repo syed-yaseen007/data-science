import numpy as np


!pip install numpy


arr = np.array([1, 3, 4])


arr


np.zeros((3, 4))


np.ones((3, 5))


np.full((4, 6), 8)


np.eye(3)


np.arange(1, 100, 10)


np.linspace(1, 100, 5)


myarr = np.array([[1, 2, 3], [4, 5, 6], [7, 8, 9], [11, 12, 13]])


myarr


myarr.shape


myarr.size


myarr.ndim


myarr.dtype


myarr = np.array([[1, 2, 3], [4, 5, 6], [7, 8, 9], [11, 12, 13]], dtype='float32')


myarr


n = myarr.astype('float64')


n.dtype


myarr.dtype


myarr = np.array([[1, 2, 3], [4, 5, 6], [7, 8, 9], [11, 12, 13]])


myarr.shape


reshaped = myarr.reshape((3, 4))


reshaped


myarr


myarr.reshape((2, 6))


myarr.flatten()




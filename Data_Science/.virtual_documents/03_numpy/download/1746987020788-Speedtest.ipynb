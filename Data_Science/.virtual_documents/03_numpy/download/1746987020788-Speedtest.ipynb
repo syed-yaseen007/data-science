# Python Zip Explained
l1 = [1, 2, 4]
l2 = [6, 7, 8]
list(zip(l1,l2))


# Using Python Lists
import numpy as np
import time

size = 1_000_000_0

l1 = list(range(size))
l2 = list(range(size))

start = time.time()
add = [x+y for x,y in zip(l1, l2)]
end = time.time()
print(add[0:10])

print(end - start)



# Using Numpy Arrays
import numpy as np
import time

size = 1_000_000_0

l1 = np.array(list(range(size)))
l2 = np.array(list(range(size)))

start = time.time()
add = l1 + l2
end = time.time()
print(add[0:10])

print(end - start)


np.array([1, 2, 3, 4, 5])


arr = np.array([[1, 2, 3], [4, 5, 6]])


type(arr)


arr.shape


import sys
list_data = list(range(1000))
numpy_data = np.array(list_data)
print("Python list size:", sys.getsizeof(list_data) * len(list_data), "bytes")
print("NumPy array size:", numpy_data.nbytes, "bytes")




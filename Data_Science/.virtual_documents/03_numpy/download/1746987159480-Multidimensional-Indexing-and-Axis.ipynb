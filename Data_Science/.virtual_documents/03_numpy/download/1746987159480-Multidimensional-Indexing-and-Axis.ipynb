import numpy as np
arr = np.array([[1, 2, 3],
[4, 5, 6],
[7, 8, 9]])



arr


np.sum(arr, axis=1)


arr[0][1]


arr[0:2, 1:3]


arr3D = np.array([
    [[1, 2, 3], 
     [4, 5, 6]],
    
[[7, 8, 9],
 [10, 11, 12]]

])


print(arr3D[:, 0, :])


arr3D[:, 0, :] = 0


arr3D




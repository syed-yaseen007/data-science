import numpy as np
# Creating a 1D Numpy array
arr1 = np.array([1,2,3,4,5])
print(arr1)
# Creating a 2D Numpy array
arr2 = np.array([[1,2,3],[4,5,6]])
print(arr2)
# Checking type and shape
print("Type:",type(arr1))
print("Shape:",arr2.shape)


np.zeros((3,4))


np.ones((3,3))


np.full((4,5),18)


np.eye(4)


np.arange(0,100,11)


np.linspace(1,100,5)


myarr = np.array([[1,2,3],[4,5,6],[7,8,9],[11,12,13]])


myarr


myarr.shape


myarr.size


myarr.ndim


myarr.dtype


myarr = np.array([[1,2,3],[4,5,6],[7,8,9],[11,12,13]],dtype='float32')


myarr


myarr.dtype


myarr = np.array([[1,2,3],[4,5,6],[7,8,9],[11,12,13]])


n = myarr.astype('int32')


myarr.dtype


n.dtype


myarr.shape


reshape = myarr.reshape((3,4))


reshape.shape


reshape


 myarr.flatten()

import numpy as np
arr = np.array([[1,2,3],[4,5,6],[7,8,9],[11,12,13]])


arr


arr = np.array([10, 20, 30, 40])
print(arr[0])  # 10
print(arr[-1]) # 40


arr = np.array([10, 20, 30, 40, 50])

print(arr[1:4])  # [20 30 40] (slice from index 1 to 3)
print(arr[:3])   # [10 20 30] (first 3 elements)
print(arr[::2])  # [10 30 50] (every 2nd element)


sliced = arr[1:4]
sliced[0] = 999
print(arr)  # [10 999 30 40 50]


arr = np.array([10, 20, 30, 40, 50])
idx = [0, 2, 4]  # Indices to select
print(arr[idx])  # [10 30 50]


arr = np.array([10, 20, 30, 40, 50])
mask = arr > 25  # Condition: values greater than 25
print(arr[mask])  # [30 40 50]




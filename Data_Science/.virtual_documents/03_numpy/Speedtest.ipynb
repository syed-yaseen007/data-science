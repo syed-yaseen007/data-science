import numpy as np
import time

# Python list
size = 1_000_000
list1 = list(range(size))
list2 = list(range(size))

start = time.time()
result = [x + y for x, y in zip(list1, list2)]
end = time.time()
print("Python list addition time:", end - start)
print("Python list size:", sys.getsizeof(result) * len(result), "bytes")



arr1 = np.array(list1)
arr2 = np.array(list2)

start = time.time()
result1 = arr1 + arr2  # Vectorized operation
end = time.time()
print("NumPy array addition time:", end - start)
print("NumPy array size:", result1.nbytes, "bytes")




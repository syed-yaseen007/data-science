import sys
import numpy as np
list_data = list(range(100))
numpy_data = np.array(list_data)
print("Python list size :",sys.getsizeof(list_data)*len(list_data),"bytes")
print("Numpy array size :",numpy_data.nbytes,"bytes")




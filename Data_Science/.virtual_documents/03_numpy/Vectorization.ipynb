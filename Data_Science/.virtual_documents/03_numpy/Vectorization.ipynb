import numpy as np
import time
list1 = list(range(10))
start = time.time()
list_square = [x**2 for x in list1]
# print(list_square)
end = time.time()
print("Python list square time:", end - start)


arr1 = np.array(list1)
start = time.time()
square = arr1**2
end = time.time()
print("Python nu square time:", end - start)




import matplotlib.pyplot as plt


years = [1990,1992,1994,1996,1998,2000,2003,2005,2007,2010]


runs = [500,700,1100,1500,1800,1200,1700,1300,900,1500]


plt.plot(years,runs)
plt.xlabel("Years")
plt.ylabel("Runs")
plt.title("Sachine Performance")
plt.show()


kohli = [0, 0, 500, 800, 1100, 1300, 1500, 1800, 1900, 2100]
sehwag = [0, 300, 800, 1200, 1500, 1700, 1600, 1400, 1000, 0]
plt.plot(years,kohli,'sb-.',label="Virat Kohli")
plt.plot(years,sehwag,'--r1',label="Virender Sehwag")
plt.xlabel("Years")
plt.ylabel("Runs")
plt.title("Comparision")
plt.legend()


kohli = [0, 0, 500, 800, 1100, 1300, 1500, 1800, 1900, 2100]
sehwag = [0, 300, 800, 1200, 1500, 1700, 1600, 1400, 1000, 0]
plt.plot(years,kohli,color = "blue",linestyle="-.",label="Virat Kohli")
plt.plot(years,sehwag,color="red",linestyle="--",marker="s",label="Virender Sehwag")
plt.plot(years,runs,'m-')
plt.xlabel("Years")
plt.ylabel("Runs")
plt.title("Comparision")
plt.legend()


kohli = [0, 0, 500, 800, 1100, 1300, 1500, 1800, 1900, 2100]
sehwag = [0, 300, 800, 1200, 1500, 1700, 1600, 1400, 1000, 0]
plt.plot(years,kohli,color = "blue",linestyle="-.",label="Virat Kohli")
plt.plot(years,sehwag,color="red",linestyle="--",label="Virender Sehwag")
plt.plot(years,runs,'m-')
plt.xlabel("Years")
plt.ylabel("Runs")
plt.title("Comparision")
plt.legend()


kohli = [0, 0, 500, 800, 1100, 1300, 1500, 1800, 1900, 2100]
sehwag = [0, 300, 800, 1200, 1500, 1700, 1600, 1400, 1000, 0]
plt.plot(years,kohli,color = "blue",linestyle="-.",label="Virat Kohli")
plt.plot(years,sehwag,color="red",linestyle="--",marker="s",label="Virender Sehwag")
plt.plot(years,runs,'m-')
plt.xlabel("Years")
plt.ylabel("Runs")
plt.title("Comparision")
plt.grid(True)
plt.legend()




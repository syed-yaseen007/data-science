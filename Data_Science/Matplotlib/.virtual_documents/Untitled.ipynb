import matplotlib.pyplot as plt


year=[2010, 2011, 2012, 2013, 2014, 2015, 2016, 2017, 2018, 2019]

Virat_Kohli=[1200, 1500, 1300, 1600, 1800, 2100, 2200, 2000, 2300, 2500]

Rohit_Sharma = [800, 1000, 1100, 1400, 1700, 1900, 2100, 2200, 2000, 2400]

Virender_Sehwag = [1500, 1700, 1800, 1600, 1400, 1200, 1000, 900, 800, 600]


plt.plot(year,Virat_kohil)
plt.plot(year,Rohit_Sharma)
plt.plot(year,Virender_Sehwag)




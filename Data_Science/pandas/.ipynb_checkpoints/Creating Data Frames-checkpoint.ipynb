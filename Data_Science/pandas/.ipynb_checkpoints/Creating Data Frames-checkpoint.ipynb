{
 "cells": [
  {
   "cell_type": "code",
   "execution_count": 1,
   "id": "751d35ae-9df7-4986-8e4c-edd476a59906",
   "metadata": {},
   "outputs": [],
   "source": [
    "import pandas as pd"
   ]
  },
  {
   "cell_type": "code",
   "execution_count": 2,
   "id": "99e68907-d7a4-41e2-8fbf-2d281f6eba79",
   "metadata": {},
   "outputs": [],
   "source": [
    "# | ID | Name        | Join Date  | Score | Status   |\n",
    "# | -- | ----------- | ---------- | ----- | -------- |\n",
    "# | 1  | Alice Brown | 2023-02-14 | 87    | Active   |\n",
    "# | 2  | Raj Verma   | 2022-11-05 | 92    | Active   |\n",
    "# | 3  | Sara Khan   | 2024-06-18 | 78    | Pending  |\n",
    "# | 4  | John Smith  | 2021-09-22 | 95    | Active   |\n",
    "# | 5  | Priya Patel | 2023-12-01 | 81    | Inactive |\n"
   ]
  },
  {
   "cell_type": "code",
   "execution_count": null,
   "id": "e7512e7e-544e-48e4-b4a0-40b56ef3c4fc",
   "metadata": {},
   "outputs": [],
   "source": [
    "data = [\n",
    "    [ 1 ,\"Alice Brown\",\"2023-02-14\",87, \"Active\"],\n",
    "    [2,\"Raj Verma\",\"2022-11-05\",92,\"Active\"],\n",
    "    [ 3  | Sara Khan   | 2024-06-18 | 78    | Pending  ]\n",
    "]"
   ]
  }
 ],
 "metadata": {
  "kernelspec": {
   "display_name": "Python 3 (ipykernel)",
   "language": "python",
   "name": "python3"
  },
  "language_info": {
   "codemirror_mode": {
    "name": "ipython",
    "version": 3
   },
   "file_extension": ".py",
   "mimetype": "text/x-python",
   "name": "python",
   "nbconvert_exporter": "python",
   "pygments_lexer": "ipython3",
   "version": "3.13.5"
  }
 },
 "nbformat": 4,
 "nbformat_minor": 5
}

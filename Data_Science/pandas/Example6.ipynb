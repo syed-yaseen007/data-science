{
 "cells": [
  {
   "cell_type": "code",
   "execution_count": 9,
   "id": "bc8417a5",
   "metadata": {},
   "outputs": [],
   "source": [
    "import pandas as pd"
   ]
  },
  {
   "cell_type": "code",
   "execution_count": 10,
   "id": "c44a5659",
   "metadata": {},
   "outputs": [],
   "source": [
    "df = pd.read_csv(\"data Transfromation.csv\")"
   ]
  },
  {
   "cell_type": "code",
   "execution_count": 11,
   "id": "bed17c3f",
   "metadata": {},
   "outputs": [
    {
     "data": {
      "text/html": [
       "<div>\n",
       "<style scoped>\n",
       "    .dataframe tbody tr th:only-of-type {\n",
       "        vertical-align: middle;\n",
       "    }\n",
       "\n",
       "    .dataframe tbody tr th {\n",
       "        vertical-align: top;\n",
       "    }\n",
       "\n",
       "    .dataframe thead th {\n",
       "        text-align: right;\n",
       "    }\n",
       "</style>\n",
       "<table border=\"1\" class=\"dataframe\">\n",
       "  <thead>\n",
       "    <tr style=\"text-align: right;\">\n",
       "      <th></th>\n",
       "      <th>Name</th>\n",
       "      <th>Age</th>\n",
       "      <th>Salary</th>\n",
       "      <th>City</th>\n",
       "      <th>Join Date</th>\n",
       "    </tr>\n",
       "  </thead>\n",
       "  <tbody>\n",
       "    <tr>\n",
       "      <th>0</th>\n",
       "      <td>Alice Brown</td>\n",
       "      <td>25.0</td>\n",
       "      <td>$50,000</td>\n",
       "      <td>new york</td>\n",
       "      <td>05-03-2021</td>\n",
       "    </tr>\n",
       "    <tr>\n",
       "      <th>1</th>\n",
       "      <td>Raj Verma</td>\n",
       "      <td>30.0</td>\n",
       "      <td>55000USD</td>\n",
       "      <td>New York</td>\n",
       "      <td>05-03-2021</td>\n",
       "    </tr>\n",
       "    <tr>\n",
       "      <th>2</th>\n",
       "      <td>Sara Khan</td>\n",
       "      <td>NaN</td>\n",
       "      <td>60000</td>\n",
       "      <td>los angeles</td>\n",
       "      <td>08-03-2021</td>\n",
       "    </tr>\n",
       "    <tr>\n",
       "      <th>3</th>\n",
       "      <td>Charlie Smith</td>\n",
       "      <td>28.0</td>\n",
       "      <td>NaN</td>\n",
       "      <td>New york</td>\n",
       "      <td>05-03-2021</td>\n",
       "    </tr>\n",
       "    <tr>\n",
       "      <th>4</th>\n",
       "      <td>Alice Brown</td>\n",
       "      <td>25.0</td>\n",
       "      <td>$50,000</td>\n",
       "      <td>new york</td>\n",
       "      <td>05-03-2021</td>\n",
       "    </tr>\n",
       "  </tbody>\n",
       "</table>\n",
       "</div>"
      ],
      "text/plain": [
       "            Name   Age    Salary         City   Join Date\n",
       "0    Alice Brown  25.0   $50,000     new york  05-03-2021\n",
       "1      Raj Verma  30.0  55000USD     New York  05-03-2021\n",
       "2      Sara Khan   NaN     60000  los angeles  08-03-2021\n",
       "3  Charlie Smith  28.0       NaN     New york  05-03-2021\n",
       "4    Alice Brown  25.0   $50,000     new york  05-03-2021"
      ]
     },
     "execution_count": 11,
     "metadata": {},
     "output_type": "execute_result"
    }
   ],
   "source": [
    "df"
   ]
  },
  {
   "cell_type": "code",
   "execution_count": 13,
   "id": "90cd1184",
   "metadata": {},
   "outputs": [],
   "source": [
    "df[\"Age\"] = df[\"Age\"].fillna(df[\"Age\"].mean())"
   ]
  },
  {
   "cell_type": "code",
   "execution_count": 14,
   "id": "84bb8285",
   "metadata": {},
   "outputs": [
    {
     "data": {
      "text/html": [
       "<div>\n",
       "<style scoped>\n",
       "    .dataframe tbody tr th:only-of-type {\n",
       "        vertical-align: middle;\n",
       "    }\n",
       "\n",
       "    .dataframe tbody tr th {\n",
       "        vertical-align: top;\n",
       "    }\n",
       "\n",
       "    .dataframe thead th {\n",
       "        text-align: right;\n",
       "    }\n",
       "</style>\n",
       "<table border=\"1\" class=\"dataframe\">\n",
       "  <thead>\n",
       "    <tr style=\"text-align: right;\">\n",
       "      <th></th>\n",
       "      <th>Name</th>\n",
       "      <th>Age</th>\n",
       "      <th>Salary</th>\n",
       "      <th>City</th>\n",
       "      <th>Join Date</th>\n",
       "    </tr>\n",
       "  </thead>\n",
       "  <tbody>\n",
       "    <tr>\n",
       "      <th>0</th>\n",
       "      <td>Alice Brown</td>\n",
       "      <td>25.0</td>\n",
       "      <td>$50,000</td>\n",
       "      <td>new york</td>\n",
       "      <td>05-03-2021</td>\n",
       "    </tr>\n",
       "    <tr>\n",
       "      <th>1</th>\n",
       "      <td>Raj Verma</td>\n",
       "      <td>30.0</td>\n",
       "      <td>55000USD</td>\n",
       "      <td>New York</td>\n",
       "      <td>05-03-2021</td>\n",
       "    </tr>\n",
       "    <tr>\n",
       "      <th>2</th>\n",
       "      <td>Sara Khan</td>\n",
       "      <td>27.0</td>\n",
       "      <td>60000</td>\n",
       "      <td>los angeles</td>\n",
       "      <td>08-03-2021</td>\n",
       "    </tr>\n",
       "    <tr>\n",
       "      <th>3</th>\n",
       "      <td>Charlie Smith</td>\n",
       "      <td>28.0</td>\n",
       "      <td>NaN</td>\n",
       "      <td>New york</td>\n",
       "      <td>05-03-2021</td>\n",
       "    </tr>\n",
       "    <tr>\n",
       "      <th>4</th>\n",
       "      <td>Alice Brown</td>\n",
       "      <td>25.0</td>\n",
       "      <td>$50,000</td>\n",
       "      <td>new york</td>\n",
       "      <td>05-03-2021</td>\n",
       "    </tr>\n",
       "  </tbody>\n",
       "</table>\n",
       "</div>"
      ],
      "text/plain": [
       "            Name   Age    Salary         City   Join Date\n",
       "0    Alice Brown  25.0   $50,000     new york  05-03-2021\n",
       "1      Raj Verma  30.0  55000USD     New York  05-03-2021\n",
       "2      Sara Khan  27.0     60000  los angeles  08-03-2021\n",
       "3  Charlie Smith  28.0       NaN     New york  05-03-2021\n",
       "4    Alice Brown  25.0   $50,000     new york  05-03-2021"
      ]
     },
     "execution_count": 14,
     "metadata": {},
     "output_type": "execute_result"
    }
   ],
   "source": [
    "df"
   ]
  },
  {
   "cell_type": "code",
   "execution_count": 16,
   "id": "15091e0c",
   "metadata": {},
   "outputs": [],
   "source": [
    "df[\"Age\"] = df[\"Age\"].astype(\"int32\")"
   ]
  },
  {
   "cell_type": "code",
   "execution_count": 17,
   "id": "be5c8268",
   "metadata": {},
   "outputs": [],
   "source": [
    "df[\"City\"] = df[\"City\"].str.capitalize()"
   ]
  },
  {
   "cell_type": "code",
   "execution_count": 18,
   "id": "f127c8f0",
   "metadata": {},
   "outputs": [],
   "source": [
    "df[\"Join Date\"] = pd.to_datetime(df[\"Join Date\"])"
   ]
  },
  {
   "cell_type": "code",
   "execution_count": 19,
   "id": "5fee0bf4",
   "metadata": {},
   "outputs": [
    {
     "data": {
      "text/html": [
       "<div>\n",
       "<style scoped>\n",
       "    .dataframe tbody tr th:only-of-type {\n",
       "        vertical-align: middle;\n",
       "    }\n",
       "\n",
       "    .dataframe tbody tr th {\n",
       "        vertical-align: top;\n",
       "    }\n",
       "\n",
       "    .dataframe thead th {\n",
       "        text-align: right;\n",
       "    }\n",
       "</style>\n",
       "<table border=\"1\" class=\"dataframe\">\n",
       "  <thead>\n",
       "    <tr style=\"text-align: right;\">\n",
       "      <th></th>\n",
       "      <th>Name</th>\n",
       "      <th>Age</th>\n",
       "      <th>Salary</th>\n",
       "      <th>City</th>\n",
       "      <th>Join Date</th>\n",
       "    </tr>\n",
       "  </thead>\n",
       "  <tbody>\n",
       "    <tr>\n",
       "      <th>0</th>\n",
       "      <td>Alice Brown</td>\n",
       "      <td>25</td>\n",
       "      <td>$50,000</td>\n",
       "      <td>New york</td>\n",
       "      <td>2021-05-03</td>\n",
       "    </tr>\n",
       "    <tr>\n",
       "      <th>1</th>\n",
       "      <td>Raj Verma</td>\n",
       "      <td>30</td>\n",
       "      <td>55000USD</td>\n",
       "      <td>New york</td>\n",
       "      <td>2021-05-03</td>\n",
       "    </tr>\n",
       "    <tr>\n",
       "      <th>2</th>\n",
       "      <td>Sara Khan</td>\n",
       "      <td>27</td>\n",
       "      <td>60000</td>\n",
       "      <td>Los angeles</td>\n",
       "      <td>2021-08-03</td>\n",
       "    </tr>\n",
       "    <tr>\n",
       "      <th>3</th>\n",
       "      <td>Charlie Smith</td>\n",
       "      <td>28</td>\n",
       "      <td>NaN</td>\n",
       "      <td>New york</td>\n",
       "      <td>2021-05-03</td>\n",
       "    </tr>\n",
       "    <tr>\n",
       "      <th>4</th>\n",
       "      <td>Alice Brown</td>\n",
       "      <td>25</td>\n",
       "      <td>$50,000</td>\n",
       "      <td>New york</td>\n",
       "      <td>2021-05-03</td>\n",
       "    </tr>\n",
       "  </tbody>\n",
       "</table>\n",
       "</div>"
      ],
      "text/plain": [
       "            Name  Age    Salary         City  Join Date\n",
       "0    Alice Brown   25   $50,000     New york 2021-05-03\n",
       "1      Raj Verma   30  55000USD     New york 2021-05-03\n",
       "2      Sara Khan   27     60000  Los angeles 2021-08-03\n",
       "3  Charlie Smith   28       NaN     New york 2021-05-03\n",
       "4    Alice Brown   25   $50,000     New york 2021-05-03"
      ]
     },
     "execution_count": 19,
     "metadata": {},
     "output_type": "execute_result"
    }
   ],
   "source": [
    "df"
   ]
  },
  {
   "cell_type": "code",
   "execution_count": null,
   "id": "dc7a293a",
   "metadata": {},
   "outputs": [],
   "source": []
  }
 ],
 "metadata": {
  "kernelspec": {
   "display_name": "base",
   "language": "python",
   "name": "python3"
  },
  "language_info": {
   "codemirror_mode": {
    "name": "ipython",
    "version": 3
   },
   "file_extension": ".py",
   "mimetype": "text/x-python",
   "name": "python",
   "nbconvert_exporter": "python",
   "pygments_lexer": "ipython3",
   "version": "3.13.5"
  }
 },
 "nbformat": 4,
 "nbformat_minor": 5
}

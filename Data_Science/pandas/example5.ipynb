{
 "cells": [
  {
   "cell_type": "code",
   "execution_count": 1,
   "id": "8b031917",
   "metadata": {},
   "outputs": [],
   "source": [
    "import pandas as pd"
   ]
  },
  {
   "cell_type": "code",
   "execution_count": 2,
   "id": "b946b676",
   "metadata": {},
   "outputs": [],
   "source": [
    "df = pd.read_csv(\"data4.csv\")"
   ]
  },
  {
   "cell_type": "code",
   "execution_count": 3,
   "id": "8bcd5894",
   "metadata": {},
   "outputs": [
    {
     "data": {
      "text/html": [
       "<div>\n",
       "<style scoped>\n",
       "    .dataframe tbody tr th:only-of-type {\n",
       "        vertical-align: middle;\n",
       "    }\n",
       "\n",
       "    .dataframe tbody tr th {\n",
       "        vertical-align: top;\n",
       "    }\n",
       "\n",
       "    .dataframe thead th {\n",
       "        text-align: right;\n",
       "    }\n",
       "</style>\n",
       "<table border=\"1\" class=\"dataframe\">\n",
       "  <thead>\n",
       "    <tr style=\"text-align: right;\">\n",
       "      <th></th>\n",
       "      <th>Name</th>\n",
       "      <th>Age</th>\n",
       "      <th>Join Date</th>\n",
       "      <th>Salary</th>\n",
       "      <th>City</th>\n",
       "    </tr>\n",
       "  </thead>\n",
       "  <tbody>\n",
       "    <tr>\n",
       "      <th>0</th>\n",
       "      <td>Alice</td>\n",
       "      <td>25.0</td>\n",
       "      <td>05-03-2021</td>\n",
       "      <td>$50,000</td>\n",
       "      <td>new york</td>\n",
       "    </tr>\n",
       "    <tr>\n",
       "      <th>1</th>\n",
       "      <td>Bob</td>\n",
       "      <td>NaN</td>\n",
       "      <td>05-03-2021</td>\n",
       "      <td>55000USD</td>\n",
       "      <td>New York</td>\n",
       "    </tr>\n",
       "    <tr>\n",
       "      <th>2</th>\n",
       "      <td>Charlie</td>\n",
       "      <td>29.0</td>\n",
       "      <td>07-03-2021</td>\n",
       "      <td>NaN</td>\n",
       "      <td>Los angeles</td>\n",
       "    </tr>\n",
       "    <tr>\n",
       "      <th>3</th>\n",
       "      <td>Alice</td>\n",
       "      <td>25.0</td>\n",
       "      <td>05-03-2021</td>\n",
       "      <td>$50,000</td>\n",
       "      <td>new york</td>\n",
       "    </tr>\n",
       "    <tr>\n",
       "      <th>4</th>\n",
       "      <td>Diana</td>\n",
       "      <td>22.0</td>\n",
       "      <td>08-03-2021</td>\n",
       "      <td>60000</td>\n",
       "      <td>los angeles</td>\n",
       "    </tr>\n",
       "  </tbody>\n",
       "</table>\n",
       "</div>"
      ],
      "text/plain": [
       "      Name   Age   Join Date    Salary         City\n",
       "0    Alice  25.0  05-03-2021   $50,000     new york\n",
       "1      Bob   NaN  05-03-2021  55000USD     New York\n",
       "2  Charlie  29.0  07-03-2021       NaN  Los angeles\n",
       "3    Alice  25.0  05-03-2021   $50,000     new york\n",
       "4    Diana  22.0  08-03-2021     60000  los angeles"
      ]
     },
     "execution_count": 3,
     "metadata": {},
     "output_type": "execute_result"
    }
   ],
   "source": [
    "df"
   ]
  },
  {
   "cell_type": "code",
   "execution_count": 4,
   "id": "fb638a07",
   "metadata": {},
   "outputs": [
    {
     "data": {
      "text/html": [
       "<div>\n",
       "<style scoped>\n",
       "    .dataframe tbody tr th:only-of-type {\n",
       "        vertical-align: middle;\n",
       "    }\n",
       "\n",
       "    .dataframe tbody tr th {\n",
       "        vertical-align: top;\n",
       "    }\n",
       "\n",
       "    .dataframe thead th {\n",
       "        text-align: right;\n",
       "    }\n",
       "</style>\n",
       "<table border=\"1\" class=\"dataframe\">\n",
       "  <thead>\n",
       "    <tr style=\"text-align: right;\">\n",
       "      <th></th>\n",
       "      <th>Name</th>\n",
       "      <th>Age</th>\n",
       "      <th>Join Date</th>\n",
       "      <th>Salary</th>\n",
       "      <th>City</th>\n",
       "    </tr>\n",
       "  </thead>\n",
       "  <tbody>\n",
       "    <tr>\n",
       "      <th>0</th>\n",
       "      <td>Alice</td>\n",
       "      <td>25.0</td>\n",
       "      <td>05-03-2021</td>\n",
       "      <td>$50,000</td>\n",
       "      <td>new york</td>\n",
       "    </tr>\n",
       "    <tr>\n",
       "      <th>1</th>\n",
       "      <td>Bob</td>\n",
       "      <td>0.0</td>\n",
       "      <td>05-03-2021</td>\n",
       "      <td>55000USD</td>\n",
       "      <td>New York</td>\n",
       "    </tr>\n",
       "    <tr>\n",
       "      <th>2</th>\n",
       "      <td>Charlie</td>\n",
       "      <td>29.0</td>\n",
       "      <td>07-03-2021</td>\n",
       "      <td>0</td>\n",
       "      <td>Los angeles</td>\n",
       "    </tr>\n",
       "    <tr>\n",
       "      <th>3</th>\n",
       "      <td>Alice</td>\n",
       "      <td>25.0</td>\n",
       "      <td>05-03-2021</td>\n",
       "      <td>$50,000</td>\n",
       "      <td>new york</td>\n",
       "    </tr>\n",
       "    <tr>\n",
       "      <th>4</th>\n",
       "      <td>Diana</td>\n",
       "      <td>22.0</td>\n",
       "      <td>08-03-2021</td>\n",
       "      <td>60000</td>\n",
       "      <td>los angeles</td>\n",
       "    </tr>\n",
       "  </tbody>\n",
       "</table>\n",
       "</div>"
      ],
      "text/plain": [
       "      Name   Age   Join Date    Salary         City\n",
       "0    Alice  25.0  05-03-2021   $50,000     new york\n",
       "1      Bob   0.0  05-03-2021  55000USD     New York\n",
       "2  Charlie  29.0  07-03-2021         0  Los angeles\n",
       "3    Alice  25.0  05-03-2021   $50,000     new york\n",
       "4    Diana  22.0  08-03-2021     60000  los angeles"
      ]
     },
     "execution_count": 4,
     "metadata": {},
     "output_type": "execute_result"
    }
   ],
   "source": [
    "df.fillna(0)"
   ]
  },
  {
   "cell_type": "code",
   "execution_count": 5,
   "id": "3ac14447",
   "metadata": {},
   "outputs": [],
   "source": [
    "df[\"Age\"] = df[\"Age\"].fillna(df[\"Age\"].mean())"
   ]
  },
  {
   "cell_type": "code",
   "execution_count": 6,
   "id": "9e79b485",
   "metadata": {},
   "outputs": [
    {
     "data": {
      "text/html": [
       "<div>\n",
       "<style scoped>\n",
       "    .dataframe tbody tr th:only-of-type {\n",
       "        vertical-align: middle;\n",
       "    }\n",
       "\n",
       "    .dataframe tbody tr th {\n",
       "        vertical-align: top;\n",
       "    }\n",
       "\n",
       "    .dataframe thead th {\n",
       "        text-align: right;\n",
       "    }\n",
       "</style>\n",
       "<table border=\"1\" class=\"dataframe\">\n",
       "  <thead>\n",
       "    <tr style=\"text-align: right;\">\n",
       "      <th></th>\n",
       "      <th>Name</th>\n",
       "      <th>Age</th>\n",
       "      <th>Join Date</th>\n",
       "      <th>Salary</th>\n",
       "      <th>City</th>\n",
       "    </tr>\n",
       "  </thead>\n",
       "  <tbody>\n",
       "    <tr>\n",
       "      <th>0</th>\n",
       "      <td>Alice</td>\n",
       "      <td>25.00</td>\n",
       "      <td>05-03-2021</td>\n",
       "      <td>$50,000</td>\n",
       "      <td>new york</td>\n",
       "    </tr>\n",
       "    <tr>\n",
       "      <th>1</th>\n",
       "      <td>Bob</td>\n",
       "      <td>25.25</td>\n",
       "      <td>05-03-2021</td>\n",
       "      <td>55000USD</td>\n",
       "      <td>New York</td>\n",
       "    </tr>\n",
       "    <tr>\n",
       "      <th>2</th>\n",
       "      <td>Charlie</td>\n",
       "      <td>29.00</td>\n",
       "      <td>07-03-2021</td>\n",
       "      <td>NaN</td>\n",
       "      <td>Los angeles</td>\n",
       "    </tr>\n",
       "    <tr>\n",
       "      <th>3</th>\n",
       "      <td>Alice</td>\n",
       "      <td>25.00</td>\n",
       "      <td>05-03-2021</td>\n",
       "      <td>$50,000</td>\n",
       "      <td>new york</td>\n",
       "    </tr>\n",
       "    <tr>\n",
       "      <th>4</th>\n",
       "      <td>Diana</td>\n",
       "      <td>22.00</td>\n",
       "      <td>08-03-2021</td>\n",
       "      <td>60000</td>\n",
       "      <td>los angeles</td>\n",
       "    </tr>\n",
       "  </tbody>\n",
       "</table>\n",
       "</div>"
      ],
      "text/plain": [
       "      Name    Age   Join Date    Salary         City\n",
       "0    Alice  25.00  05-03-2021   $50,000     new york\n",
       "1      Bob  25.25  05-03-2021  55000USD     New York\n",
       "2  Charlie  29.00  07-03-2021       NaN  Los angeles\n",
       "3    Alice  25.00  05-03-2021   $50,000     new york\n",
       "4    Diana  22.00  08-03-2021     60000  los angeles"
      ]
     },
     "execution_count": 6,
     "metadata": {},
     "output_type": "execute_result"
    }
   ],
   "source": [
    "df"
   ]
  },
  {
   "cell_type": "code",
   "execution_count": 8,
   "id": "cc66a246",
   "metadata": {},
   "outputs": [],
   "source": [
    "df[\"Join Date\"] = pd.to_datetime(df[\"Join Date\"])"
   ]
  },
  {
   "cell_type": "code",
   "execution_count": 9,
   "id": "00d35fcb",
   "metadata": {},
   "outputs": [
    {
     "data": {
      "text/html": [
       "<div>\n",
       "<style scoped>\n",
       "    .dataframe tbody tr th:only-of-type {\n",
       "        vertical-align: middle;\n",
       "    }\n",
       "\n",
       "    .dataframe tbody tr th {\n",
       "        vertical-align: top;\n",
       "    }\n",
       "\n",
       "    .dataframe thead th {\n",
       "        text-align: right;\n",
       "    }\n",
       "</style>\n",
       "<table border=\"1\" class=\"dataframe\">\n",
       "  <thead>\n",
       "    <tr style=\"text-align: right;\">\n",
       "      <th></th>\n",
       "      <th>Name</th>\n",
       "      <th>Age</th>\n",
       "      <th>Join Date</th>\n",
       "      <th>Salary</th>\n",
       "      <th>City</th>\n",
       "    </tr>\n",
       "  </thead>\n",
       "  <tbody>\n",
       "    <tr>\n",
       "      <th>0</th>\n",
       "      <td>Alice</td>\n",
       "      <td>25.00</td>\n",
       "      <td>2021-05-03</td>\n",
       "      <td>$50,000</td>\n",
       "      <td>new york</td>\n",
       "    </tr>\n",
       "    <tr>\n",
       "      <th>1</th>\n",
       "      <td>Bob</td>\n",
       "      <td>25.25</td>\n",
       "      <td>2021-05-03</td>\n",
       "      <td>55000USD</td>\n",
       "      <td>New York</td>\n",
       "    </tr>\n",
       "    <tr>\n",
       "      <th>2</th>\n",
       "      <td>Charlie</td>\n",
       "      <td>29.00</td>\n",
       "      <td>2021-07-03</td>\n",
       "      <td>NaN</td>\n",
       "      <td>Los angeles</td>\n",
       "    </tr>\n",
       "    <tr>\n",
       "      <th>3</th>\n",
       "      <td>Alice</td>\n",
       "      <td>25.00</td>\n",
       "      <td>2021-05-03</td>\n",
       "      <td>$50,000</td>\n",
       "      <td>new york</td>\n",
       "    </tr>\n",
       "    <tr>\n",
       "      <th>4</th>\n",
       "      <td>Diana</td>\n",
       "      <td>22.00</td>\n",
       "      <td>2021-08-03</td>\n",
       "      <td>60000</td>\n",
       "      <td>los angeles</td>\n",
       "    </tr>\n",
       "  </tbody>\n",
       "</table>\n",
       "</div>"
      ],
      "text/plain": [
       "      Name    Age  Join Date    Salary         City\n",
       "0    Alice  25.00 2021-05-03   $50,000     new york\n",
       "1      Bob  25.25 2021-05-03  55000USD     New York\n",
       "2  Charlie  29.00 2021-07-03       NaN  Los angeles\n",
       "3    Alice  25.00 2021-05-03   $50,000     new york\n",
       "4    Diana  22.00 2021-08-03     60000  los angeles"
      ]
     },
     "execution_count": 9,
     "metadata": {},
     "output_type": "execute_result"
    }
   ],
   "source": [
    "df"
   ]
  },
  {
   "cell_type": "code",
   "execution_count": 10,
   "id": "45d84c61",
   "metadata": {},
   "outputs": [
    {
     "data": {
      "text/html": [
       "<div>\n",
       "<style scoped>\n",
       "    .dataframe tbody tr th:only-of-type {\n",
       "        vertical-align: middle;\n",
       "    }\n",
       "\n",
       "    .dataframe tbody tr th {\n",
       "        vertical-align: top;\n",
       "    }\n",
       "\n",
       "    .dataframe thead th {\n",
       "        text-align: right;\n",
       "    }\n",
       "</style>\n",
       "<table border=\"1\" class=\"dataframe\">\n",
       "  <thead>\n",
       "    <tr style=\"text-align: right;\">\n",
       "      <th></th>\n",
       "      <th>Name</th>\n",
       "      <th>Age</th>\n",
       "      <th>Join Date</th>\n",
       "      <th>Salary</th>\n",
       "      <th>City</th>\n",
       "    </tr>\n",
       "  </thead>\n",
       "  <tbody>\n",
       "    <tr>\n",
       "      <th>0</th>\n",
       "      <td>Alice</td>\n",
       "      <td>25.00</td>\n",
       "      <td>2021-05-03</td>\n",
       "      <td>$50,000</td>\n",
       "      <td>new york</td>\n",
       "    </tr>\n",
       "    <tr>\n",
       "      <th>1</th>\n",
       "      <td>Bob</td>\n",
       "      <td>25.25</td>\n",
       "      <td>2021-05-03</td>\n",
       "      <td>55000USD</td>\n",
       "      <td>New York</td>\n",
       "    </tr>\n",
       "    <tr>\n",
       "      <th>2</th>\n",
       "      <td>Charlie</td>\n",
       "      <td>29.00</td>\n",
       "      <td>2021-07-03</td>\n",
       "      <td>0</td>\n",
       "      <td>Los angeles</td>\n",
       "    </tr>\n",
       "    <tr>\n",
       "      <th>3</th>\n",
       "      <td>Alice</td>\n",
       "      <td>25.00</td>\n",
       "      <td>2021-05-03</td>\n",
       "      <td>$50,000</td>\n",
       "      <td>new york</td>\n",
       "    </tr>\n",
       "    <tr>\n",
       "      <th>4</th>\n",
       "      <td>Diana</td>\n",
       "      <td>22.00</td>\n",
       "      <td>2021-08-03</td>\n",
       "      <td>60000</td>\n",
       "      <td>los angeles</td>\n",
       "    </tr>\n",
       "  </tbody>\n",
       "</table>\n",
       "</div>"
      ],
      "text/plain": [
       "      Name    Age  Join Date    Salary         City\n",
       "0    Alice  25.00 2021-05-03   $50,000     new york\n",
       "1      Bob  25.25 2021-05-03  55000USD     New York\n",
       "2  Charlie  29.00 2021-07-03         0  Los angeles\n",
       "3    Alice  25.00 2021-05-03   $50,000     new york\n",
       "4    Diana  22.00 2021-08-03     60000  los angeles"
      ]
     },
     "execution_count": 10,
     "metadata": {},
     "output_type": "execute_result"
    }
   ],
   "source": [
    "df.fillna(0)"
   ]
  },
  {
   "cell_type": "code",
   "execution_count": 12,
   "id": "89989986",
   "metadata": {},
   "outputs": [
    {
     "data": {
      "text/plain": [
       "0    $50,000\n",
       "1     55000$\n",
       "2        NaN\n",
       "3    $50,000\n",
       "4      60000\n",
       "Name: Salary, dtype: object"
      ]
     },
     "execution_count": 12,
     "metadata": {},
     "output_type": "execute_result"
    }
   ],
   "source": [
    "df[\"Salary\"].str.replace(\"USD\",\"$\")"
   ]
  },
  {
   "cell_type": "code",
   "execution_count": 15,
   "id": "3f015302",
   "metadata": {},
   "outputs": [],
   "source": [
    "df[\"City\"]=df[\"City\"].str.capitalize()"
   ]
  },
  {
   "cell_type": "code",
   "execution_count": 16,
   "id": "44cbdff2",
   "metadata": {},
   "outputs": [
    {
     "data": {
      "text/html": [
       "<div>\n",
       "<style scoped>\n",
       "    .dataframe tbody tr th:only-of-type {\n",
       "        vertical-align: middle;\n",
       "    }\n",
       "\n",
       "    .dataframe tbody tr th {\n",
       "        vertical-align: top;\n",
       "    }\n",
       "\n",
       "    .dataframe thead th {\n",
       "        text-align: right;\n",
       "    }\n",
       "</style>\n",
       "<table border=\"1\" class=\"dataframe\">\n",
       "  <thead>\n",
       "    <tr style=\"text-align: right;\">\n",
       "      <th></th>\n",
       "      <th>Name</th>\n",
       "      <th>Age</th>\n",
       "      <th>Join Date</th>\n",
       "      <th>Salary</th>\n",
       "      <th>City</th>\n",
       "    </tr>\n",
       "  </thead>\n",
       "  <tbody>\n",
       "    <tr>\n",
       "      <th>0</th>\n",
       "      <td>Alice</td>\n",
       "      <td>25.00</td>\n",
       "      <td>2021-05-03</td>\n",
       "      <td>$50,000</td>\n",
       "      <td>New york</td>\n",
       "    </tr>\n",
       "    <tr>\n",
       "      <th>1</th>\n",
       "      <td>Bob</td>\n",
       "      <td>25.25</td>\n",
       "      <td>2021-05-03</td>\n",
       "      <td>55000USD</td>\n",
       "      <td>New york</td>\n",
       "    </tr>\n",
       "    <tr>\n",
       "      <th>2</th>\n",
       "      <td>Charlie</td>\n",
       "      <td>29.00</td>\n",
       "      <td>2021-07-03</td>\n",
       "      <td>NaN</td>\n",
       "      <td>Los angeles</td>\n",
       "    </tr>\n",
       "    <tr>\n",
       "      <th>3</th>\n",
       "      <td>Alice</td>\n",
       "      <td>25.00</td>\n",
       "      <td>2021-05-03</td>\n",
       "      <td>$50,000</td>\n",
       "      <td>New york</td>\n",
       "    </tr>\n",
       "    <tr>\n",
       "      <th>4</th>\n",
       "      <td>Diana</td>\n",
       "      <td>22.00</td>\n",
       "      <td>2021-08-03</td>\n",
       "      <td>60000</td>\n",
       "      <td>Los angeles</td>\n",
       "    </tr>\n",
       "  </tbody>\n",
       "</table>\n",
       "</div>"
      ],
      "text/plain": [
       "      Name    Age  Join Date    Salary         City\n",
       "0    Alice  25.00 2021-05-03   $50,000     New york\n",
       "1      Bob  25.25 2021-05-03  55000USD     New york\n",
       "2  Charlie  29.00 2021-07-03       NaN  Los angeles\n",
       "3    Alice  25.00 2021-05-03   $50,000     New york\n",
       "4    Diana  22.00 2021-08-03     60000  Los angeles"
      ]
     },
     "execution_count": 16,
     "metadata": {},
     "output_type": "execute_result"
    }
   ],
   "source": [
    "df"
   ]
  },
  {
   "cell_type": "code",
   "execution_count": 18,
   "id": "45b3c1bb",
   "metadata": {},
   "outputs": [
    {
     "data": {
      "text/plain": [
       "Name                 object\n",
       "Age                 float64\n",
       "Join Date    datetime64[ns]\n",
       "Salary               object\n",
       "City                 object\n",
       "dtype: object"
      ]
     },
     "execution_count": 18,
     "metadata": {},
     "output_type": "execute_result"
    }
   ],
   "source": [
    "df.dtypes"
   ]
  },
  {
   "cell_type": "code",
   "execution_count": 19,
   "id": "c1b329c5",
   "metadata": {},
   "outputs": [],
   "source": [
    "df[\"Age\"] = df[\"Age\"].astype(int)"
   ]
  },
  {
   "cell_type": "code",
   "execution_count": 20,
   "id": "6961a890",
   "metadata": {},
   "outputs": [
    {
     "data": {
      "text/html": [
       "<div>\n",
       "<style scoped>\n",
       "    .dataframe tbody tr th:only-of-type {\n",
       "        vertical-align: middle;\n",
       "    }\n",
       "\n",
       "    .dataframe tbody tr th {\n",
       "        vertical-align: top;\n",
       "    }\n",
       "\n",
       "    .dataframe thead th {\n",
       "        text-align: right;\n",
       "    }\n",
       "</style>\n",
       "<table border=\"1\" class=\"dataframe\">\n",
       "  <thead>\n",
       "    <tr style=\"text-align: right;\">\n",
       "      <th></th>\n",
       "      <th>Name</th>\n",
       "      <th>Age</th>\n",
       "      <th>Join Date</th>\n",
       "      <th>Salary</th>\n",
       "      <th>City</th>\n",
       "    </tr>\n",
       "  </thead>\n",
       "  <tbody>\n",
       "    <tr>\n",
       "      <th>0</th>\n",
       "      <td>Alice</td>\n",
       "      <td>25</td>\n",
       "      <td>2021-05-03</td>\n",
       "      <td>$50,000</td>\n",
       "      <td>New york</td>\n",
       "    </tr>\n",
       "    <tr>\n",
       "      <th>1</th>\n",
       "      <td>Bob</td>\n",
       "      <td>25</td>\n",
       "      <td>2021-05-03</td>\n",
       "      <td>55000USD</td>\n",
       "      <td>New york</td>\n",
       "    </tr>\n",
       "    <tr>\n",
       "      <th>2</th>\n",
       "      <td>Charlie</td>\n",
       "      <td>29</td>\n",
       "      <td>2021-07-03</td>\n",
       "      <td>NaN</td>\n",
       "      <td>Los angeles</td>\n",
       "    </tr>\n",
       "    <tr>\n",
       "      <th>3</th>\n",
       "      <td>Alice</td>\n",
       "      <td>25</td>\n",
       "      <td>2021-05-03</td>\n",
       "      <td>$50,000</td>\n",
       "      <td>New york</td>\n",
       "    </tr>\n",
       "    <tr>\n",
       "      <th>4</th>\n",
       "      <td>Diana</td>\n",
       "      <td>22</td>\n",
       "      <td>2021-08-03</td>\n",
       "      <td>60000</td>\n",
       "      <td>Los angeles</td>\n",
       "    </tr>\n",
       "  </tbody>\n",
       "</table>\n",
       "</div>"
      ],
      "text/plain": [
       "      Name  Age  Join Date    Salary         City\n",
       "0    Alice   25 2021-05-03   $50,000     New york\n",
       "1      Bob   25 2021-05-03  55000USD     New york\n",
       "2  Charlie   29 2021-07-03       NaN  Los angeles\n",
       "3    Alice   25 2021-05-03   $50,000     New york\n",
       "4    Diana   22 2021-08-03     60000  Los angeles"
      ]
     },
     "execution_count": 20,
     "metadata": {},
     "output_type": "execute_result"
    }
   ],
   "source": [
    "df"
   ]
  },
  {
   "cell_type": "code",
   "execution_count": 21,
   "id": "3244cd43",
   "metadata": {},
   "outputs": [
    {
     "data": {
      "text/plain": [
       "Name                 object\n",
       "Age                   int64\n",
       "Join Date    datetime64[ns]\n",
       "Salary               object\n",
       "City                 object\n",
       "dtype: object"
      ]
     },
     "execution_count": 21,
     "metadata": {},
     "output_type": "execute_result"
    }
   ],
   "source": [
    "df.dtypes"
   ]
  },
  {
   "cell_type": "code",
   "execution_count": null,
   "id": "e83e86f0",
   "metadata": {},
   "outputs": [],
   "source": []
  }
 ],
 "metadata": {
  "kernelspec": {
   "display_name": "base",
   "language": "python",
   "name": "python3"
  },
  "language_info": {
   "codemirror_mode": {
    "name": "ipython",
    "version": 3
   },
   "file_extension": ".py",
   "mimetype": "text/x-python",
   "name": "python",
   "nbconvert_exporter": "python",
   "pygments_lexer": "ipython3",
   "version": "3.13.5"
  }
 },
 "nbformat": 4,
 "nbformat_minor": 5
}

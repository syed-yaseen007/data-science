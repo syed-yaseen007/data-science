import pandas as pd


s1 = pd.Series([89,90,67,89,54])


type(s1)
s1


s2 = pd.Series([89,90,67,89,54],index = ["Akhileshwar","Sahasra","Harry","Ali","Koushik"])


print(s2)


print(s2["Sahasra"])


print(s2["Akhileshwar"])


data = {
    "ID":[1,2,3,4,5],
    "Name":["Alice Brown","Raj Verma","Sara Khan","John Smith","Priya Patel"],
    "Join Date":["2023-02-14","2022-11-05","2024-06-18","2021-09-22","2023-12-01"],
    "Score":[87,92,78,95,81],
    "Status":["Active","Active","Pending","Active","Inactive"]
}


df = pd.DataFrame(data)


df 


df.index


df.columns


type(df)




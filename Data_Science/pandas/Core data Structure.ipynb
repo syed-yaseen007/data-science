{
 "cells": [
  {
   "cell_type": "code",
   "execution_count": 1,
   "id": "a9fb691b-87a7-468a-b47e-8fe412215a61",
   "metadata": {},
   "outputs": [],
   "source": [
    "import pandas as pd"
   ]
  },
  {
   "cell_type": "code",
   "execution_count": 6,
   "id": "7595bbfc-eb37-4131-b82b-6553b908c56d",
   "metadata": {},
   "outputs": [],
   "source": [
    "s1 = pd.Series([89,90,67,89,54])"
   ]
  },
  {
   "cell_type": "code",
   "execution_count": 10,
   "id": "2111a760-1d20-414e-b86d-18b92781c884",
   "metadata": {},
   "outputs": [
    {
     "data": {
      "text/plain": [
       "0    89\n",
       "1    90\n",
       "2    67\n",
       "3    89\n",
       "4    54\n",
       "dtype: int64"
      ]
     },
     "execution_count": 10,
     "metadata": {},
     "output_type": "execute_result"
    }
   ],
   "source": [
    "type(s1)\n",
    "s1"
   ]
  },
  {
   "cell_type": "code",
   "execution_count": 14,
   "id": "2667bdc8-58e5-46f9-8538-8e4d0ac50524",
   "metadata": {},
   "outputs": [],
   "source": [
    "s2 = pd.Series([89,90,67,89,54],index = [\"Akhileshwar\",\"Sahasra\",\"Harry\",\"Ali\",\"Koushik\"])"
   ]
  },
  {
   "cell_type": "code",
   "execution_count": 15,
   "id": "a2819bb9-059a-4d65-a3c6-335a7e8dc95b",
   "metadata": {},
   "outputs": [
    {
     "name": "stdout",
     "output_type": "stream",
     "text": [
      "Akhileshwar    89\n",
      "Sahasra        90\n",
      "Harry          67\n",
      "Ali            89\n",
      "Koushik        54\n",
      "dtype: int64\n"
     ]
    }
   ],
   "source": [
    "print(s2)"
   ]
  },
  {
   "cell_type": "code",
   "execution_count": 18,
   "id": "2029d433-0163-413d-b2be-413af2e6c357",
   "metadata": {},
   "outputs": [
    {
     "name": "stdout",
     "output_type": "stream",
     "text": [
      "90\n"
     ]
    }
   ],
   "source": [
    "print(s2[\"Sahasra\"])"
   ]
  },
  {
   "cell_type": "code",
   "execution_count": 20,
   "id": "92590d2c-3874-42b5-83e8-5be86273f57d",
   "metadata": {},
   "outputs": [
    {
     "name": "stdout",
     "output_type": "stream",
     "text": [
      "89\n"
     ]
    }
   ],
   "source": [
    "print(s2[\"Akhileshwar\"])"
   ]
  },
  {
   "cell_type": "code",
   "execution_count": 5,
   "id": "2ca6b857-d1db-447a-9a0d-e21773b66d75",
   "metadata": {},
   "outputs": [],
   "source": [
    "data = {\n",
    "    \"ID\":[1,2,3,4,5],\n",
    "    \"Name\":[\"Alice Brown\",\"Raj Verma\",\"Sara Khan\",\"John Smith\",\"Priya Patel\"],\n",
    "    \"Join Date\":[\"2023-02-14\",\"2022-11-05\",\"2024-06-18\",\"2021-09-22\",\"2023-12-01\"],\n",
    "    \"Score\":[87,92,78,95,81],\n",
    "    \"Status\":[\"Active\",\"Active\",\"Pending\",\"Active\",\"Inactive\"]\n",
    "}"
   ]
  },
  {
   "cell_type": "code",
   "execution_count": 6,
   "id": "0323ed17-59cf-46a3-a68b-db7e38c3011a",
   "metadata": {},
   "outputs": [],
   "source": [
    "df = pd.DataFrame(data)"
   ]
  },
  {
   "cell_type": "code",
   "execution_count": 7,
   "id": "95cc9d5d-0217-4a23-a5de-8199917f8a4a",
   "metadata": {},
   "outputs": [
    {
     "data": {
      "text/html": [
       "<div>\n",
       "<style scoped>\n",
       "    .dataframe tbody tr th:only-of-type {\n",
       "        vertical-align: middle;\n",
       "    }\n",
       "\n",
       "    .dataframe tbody tr th {\n",
       "        vertical-align: top;\n",
       "    }\n",
       "\n",
       "    .dataframe thead th {\n",
       "        text-align: right;\n",
       "    }\n",
       "</style>\n",
       "<table border=\"1\" class=\"dataframe\">\n",
       "  <thead>\n",
       "    <tr style=\"text-align: right;\">\n",
       "      <th></th>\n",
       "      <th>ID</th>\n",
       "      <th>Name</th>\n",
       "      <th>Join Date</th>\n",
       "      <th>Score</th>\n",
       "      <th>Status</th>\n",
       "    </tr>\n",
       "  </thead>\n",
       "  <tbody>\n",
       "    <tr>\n",
       "      <th>0</th>\n",
       "      <td>1</td>\n",
       "      <td>Alice Brown</td>\n",
       "      <td>2023-02-14</td>\n",
       "      <td>87</td>\n",
       "      <td>Active</td>\n",
       "    </tr>\n",
       "    <tr>\n",
       "      <th>1</th>\n",
       "      <td>2</td>\n",
       "      <td>Raj Verma</td>\n",
       "      <td>2022-11-05</td>\n",
       "      <td>92</td>\n",
       "      <td>Active</td>\n",
       "    </tr>\n",
       "    <tr>\n",
       "      <th>2</th>\n",
       "      <td>3</td>\n",
       "      <td>Sara Khan</td>\n",
       "      <td>2024-06-18</td>\n",
       "      <td>78</td>\n",
       "      <td>Pending</td>\n",
       "    </tr>\n",
       "    <tr>\n",
       "      <th>3</th>\n",
       "      <td>4</td>\n",
       "      <td>John Smith</td>\n",
       "      <td>2021-09-22</td>\n",
       "      <td>95</td>\n",
       "      <td>Active</td>\n",
       "    </tr>\n",
       "    <tr>\n",
       "      <th>4</th>\n",
       "      <td>5</td>\n",
       "      <td>Priya Patel</td>\n",
       "      <td>2023-12-01</td>\n",
       "      <td>81</td>\n",
       "      <td>Inactive</td>\n",
       "    </tr>\n",
       "  </tbody>\n",
       "</table>\n",
       "</div>"
      ],
      "text/plain": [
       "   ID         Name   Join Date  Score    Status\n",
       "0   1  Alice Brown  2023-02-14     87    Active\n",
       "1   2    Raj Verma  2022-11-05     92    Active\n",
       "2   3    Sara Khan  2024-06-18     78   Pending\n",
       "3   4   John Smith  2021-09-22     95    Active\n",
       "4   5  Priya Patel  2023-12-01     81  Inactive"
      ]
     },
     "execution_count": 7,
     "metadata": {},
     "output_type": "execute_result"
    }
   ],
   "source": [
    "df "
   ]
  },
  {
   "cell_type": "code",
   "execution_count": 8,
   "id": "e24e13fb-b672-4b4e-8eeb-2b8500440fca",
   "metadata": {},
   "outputs": [
    {
     "data": {
      "text/plain": [
       "RangeIndex(start=0, stop=5, step=1)"
      ]
     },
     "execution_count": 8,
     "metadata": {},
     "output_type": "execute_result"
    }
   ],
   "source": [
    "df.index"
   ]
  },
  {
   "cell_type": "code",
   "execution_count": 9,
   "id": "48f85785-0a86-4695-b7bd-0d56ee92ac9f",
   "metadata": {},
   "outputs": [
    {
     "data": {
      "text/plain": [
       "Index(['ID', 'Name', 'Join Date', 'Score', 'Status'], dtype='object')"
      ]
     },
     "execution_count": 9,
     "metadata": {},
     "output_type": "execute_result"
    }
   ],
   "source": [
    "df.columns"
   ]
  },
  {
   "cell_type": "code",
   "execution_count": 10,
   "id": "8669921d-41d3-4b54-9c2d-70965a6f2c01",
   "metadata": {},
   "outputs": [
    {
     "data": {
      "text/plain": [
       "pandas.core.frame.DataFrame"
      ]
     },
     "execution_count": 10,
     "metadata": {},
     "output_type": "execute_result"
    }
   ],
   "source": [
    "type(df)"
   ]
  },
  {
   "cell_type": "code",
   "execution_count": null,
   "id": "b3364522-ca33-4418-abec-7c83c88fff4b",
   "metadata": {},
   "outputs": [],
   "source": []
  }
 ],
 "metadata": {
  "kernelspec": {
   "display_name": "base",
   "language": "python",
   "name": "python3"
  },
  "language_info": {
   "codemirror_mode": {
    "name": "ipython",
    "version": 3
   },
   "file_extension": ".py",
   "mimetype": "text/x-python",
   "name": "python",
   "nbconvert_exporter": "python",
   "pygments_lexer": "ipython3",
   "version": "3.13.5"
  }
 },
 "nbformat": 4,
 "nbformat_minor": 5
}

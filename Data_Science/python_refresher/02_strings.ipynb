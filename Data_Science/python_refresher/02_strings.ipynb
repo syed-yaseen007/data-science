{
 "cells": [
  {
   "cell_type": "code",
   "execution_count": 1,
   "id": "8e2f609d-641d-4d58-84e7-2a0fa3556d9a",
   "metadata": {},
   "outputs": [],
   "source": [
    "name = \"Harry\""
   ]
  },
  {
   "cell_type": "code",
   "execution_count": 2,
   "id": "468d30f5-192e-4017-bf2e-aebdbcb11f93",
   "metadata": {},
   "outputs": [
    {
     "data": {
      "text/plain": [
       "'Harry'"
      ]
     },
     "execution_count": 2,
     "metadata": {},
     "output_type": "execute_result"
    }
   ],
   "source": [
    "name"
   ]
  },
  {
   "cell_type": "code",
   "execution_count": 3,
   "id": "b99813a3-b202-4568-90cf-c451d35d5ea3",
   "metadata": {},
   "outputs": [
    {
     "data": {
      "text/plain": [
       "'HARRY'"
      ]
     },
     "execution_count": 3,
     "metadata": {},
     "output_type": "execute_result"
    }
   ],
   "source": [
    "name.upper()"
   ]
  },
  {
   "cell_type": "code",
   "execution_count": 4,
   "id": "13a2b535-3651-4e69-98b9-f20a37bc71ac",
   "metadata": {},
   "outputs": [
    {
     "data": {
      "text/plain": [
       "True"
      ]
     },
     "execution_count": 4,
     "metadata": {},
     "output_type": "execute_result"
    }
   ],
   "source": [
    "name.endswith(\"ry\")"
   ]
  },
  {
   "cell_type": "code",
   "execution_count": 5,
   "id": "c33f4ecf-d562-4715-b8de-9453a6f54cd0",
   "metadata": {},
   "outputs": [
    {
     "data": {
      "text/plain": [
       "False"
      ]
     },
     "execution_count": 5,
     "metadata": {},
     "output_type": "execute_result"
    }
   ],
   "source": [
    "name.endswith(\"jerry\")"
   ]
  },
  {
   "cell_type": "code",
   "execution_count": 6,
   "id": "2bc1f0ff-15e7-42c4-bad3-d718a1b1bf4d",
   "metadata": {},
   "outputs": [
    {
     "data": {
      "text/plain": [
       "'harry'"
      ]
     },
     "execution_count": 6,
     "metadata": {},
     "output_type": "execute_result"
    }
   ],
   "source": [
    "name.lower()"
   ]
  },
  {
   "cell_type": "code",
   "execution_count": 7,
   "id": "759ebf33-03c1-495e-99be-74801bfb2bc8",
   "metadata": {},
   "outputs": [
    {
     "data": {
      "text/plain": [
       "1"
      ]
     },
     "execution_count": 7,
     "metadata": {},
     "output_type": "execute_result"
    }
   ],
   "source": [
    "name.count(\"a\")"
   ]
  },
  {
   "cell_type": "code",
   "execution_count": 8,
   "id": "6ffb79c7-6ac0-4172-a2c9-43a58a16b2e9",
   "metadata": {},
   "outputs": [
    {
     "data": {
      "text/plain": [
       "2"
      ]
     },
     "execution_count": 8,
     "metadata": {},
     "output_type": "execute_result"
    }
   ],
   "source": [
    "name.count(\"r\")"
   ]
  },
  {
   "cell_type": "code",
   "execution_count": 9,
   "id": "8b5a187a-5d5b-4420-92fe-df4ffedf32a1",
   "metadata": {},
   "outputs": [
    {
     "name": "stdout",
     "output_type": "stream",
     "text": [
      "13\n"
     ]
    }
   ],
   "source": [
    "s = \"CodeWithHarry\"\n",
    "print(len(s))  # Output: 13\n"
   ]
  },
  {
   "cell_type": "code",
   "execution_count": 10,
   "id": "740c848c-3335-42a9-a3e1-a215bb2bd991",
   "metadata": {},
   "outputs": [
    {
     "data": {
      "text/plain": [
       "'CodeW'"
      ]
     },
     "execution_count": 10,
     "metadata": {},
     "output_type": "execute_result"
    }
   ],
   "source": [
    "s[0:5]"
   ]
  },
  {
   "cell_type": "code",
   "execution_count": 11,
   "id": "b7722a1d-835f-40ac-b8ca-e737860b166c",
   "metadata": {},
   "outputs": [
    {
     "data": {
      "text/plain": [
       "'odeWithHarr'"
      ]
     },
     "execution_count": 11,
     "metadata": {},
     "output_type": "execute_result"
    }
   ],
   "source": [
    "s[1:-1]"
   ]
  },
  {
   "cell_type": "code",
   "execution_count": 12,
   "id": "01cab33d-229d-459e-a173-8f338f433e44",
   "metadata": {},
   "outputs": [
    {
     "data": {
      "text/plain": [
       "'odeWithHarr'"
      ]
     },
     "execution_count": 12,
     "metadata": {},
     "output_type": "execute_result"
    }
   ],
   "source": [
    "s[1:12]"
   ]
  },
  {
   "cell_type": "code",
   "execution_count": 13,
   "id": "2412f0e2-b921-4aee-b01b-43883cc44a41",
   "metadata": {},
   "outputs": [
    {
     "data": {
      "text/plain": [
       "'odeWithHarr'"
      ]
     },
     "execution_count": 13,
     "metadata": {},
     "output_type": "execute_result"
    }
   ],
   "source": [
    "s[-12:-1]"
   ]
  },
  {
   "cell_type": "code",
   "execution_count": null,
   "id": "52166966-030a-4944-8c4a-349b04706b36",
   "metadata": {},
   "outputs": [],
   "source": [
    "s[1:12]\n",
    "\n",
    "name = \"Akhileshwar\""
   ]
  },
  {
   "cell_type": "code",
   "execution_count": 4,
   "id": "7370fef0-695b-4505-a77b-15fb812789bc",
   "metadata": {},
   "outputs": [
    {
     "data": {
      "text/plain": [
       "['Akhileshwar']"
      ]
     },
     "execution_count": 4,
     "metadata": {},
     "output_type": "execute_result"
    }
   ],
   "source": [
    "name.split()"
   ]
  },
  {
   "cell_type": "code",
   "execution_count": 9,
   "id": "81b98736-fdb6-4356-961c-5ec30c192f9c",
   "metadata": {},
   "outputs": [
    {
     "data": {
      "text/plain": [
       "'2025-04-14'"
      ]
     },
     "execution_count": 9,
     "metadata": {},
     "output_type": "execute_result"
    }
   ],
   "source": [
    "\"-\".join([\"2025\", \"04\", \"14\"])"
   ]
  },
  {
   "cell_type": "code",
   "execution_count": null,
   "id": "6757020a-c2d9-4b5c-acb7-613dcb1fd1d4",
   "metadata": {},
   "outputs": [],
   "source": []
  }
 ],
 "metadata": {
  "kernelspec": {
   "display_name": "Python 3 (ipykernel)",
   "language": "python",
   "name": "python3"
  },
  "language_info": {
   "codemirror_mode": {
    "name": "ipython",
    "version": 3
   },
   "file_extension": ".py",
   "mimetype": "text/x-python",
   "name": "python",
   "nbconvert_exporter": "python",
   "pygments_lexer": "ipython3",
   "version": "3.13.5"
  }
 },
 "nbformat": 4,
 "nbformat_minor": 5
}

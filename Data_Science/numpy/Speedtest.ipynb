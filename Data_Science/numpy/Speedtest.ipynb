{
 "cells": [
  {
   "cell_type": "code",
   "execution_count": 3,
   "id": "814953ef-8ea4-4aa4-ac47-839b87ecd710",
   "metadata": {},
   "outputs": [
    {
     "name": "stdout",
     "output_type": "stream",
     "text": [
      "Python list addition time: 0.13337373733520508\n",
      "Python list size: 8448728000000 bytes\n"
     ]
    }
   ],
   "source": [
    "import numpy as np\n",
    "import time\n",
    "\n",
    "# Python list\n",
    "size = 1_000_000\n",
    "list1 = list(range(size))\n",
    "list2 = list(range(size))\n",
    "\n",
    "start = time.time()\n",
    "result = [x + y for x, y in zip(list1, list2)]\n",
    "end = time.time()\n",
    "print(\"Python list addition time:\", end - start)\n",
    "print(\"Python list size:\", sys.getsizeof(result) * len(result), \"bytes\")\n"
   ]
  },
  {
   "cell_type": "code",
   "execution_count": 6,
   "id": "504deb28-9e00-486c-b129-545975f91646",
   "metadata": {},
   "outputs": [
    {
     "name": "stdout",
     "output_type": "stream",
     "text": [
      "NumPy array addition time: 0.006023883819580078\n",
      "NumPy array size: 8000000 bytes\n"
     ]
    }
   ],
   "source": [
    "arr1 = np.array(list1)\n",
    "arr2 = np.array(list2)\n",
    "\n",
    "start = time.time()\n",
    "result1 = arr1 + arr2  # Vectorized operation\n",
    "end = time.time()\n",
    "print(\"NumPy array addition time:\", end - start)\n",
    "print(\"NumPy array size:\", result1.nbytes, \"bytes\")"
   ]
  },
  {
   "cell_type": "code",
   "execution_count": null,
   "id": "165fbcc0-9446-4176-a599-3b27ca5fb9ed",
   "metadata": {},
   "outputs": [],
   "source": []
  }
 ],
 "metadata": {
  "kernelspec": {
   "display_name": "Python 3 (ipykernel)",
   "language": "python",
   "name": "python3"
  },
  "language_info": {
   "codemirror_mode": {
    "name": "ipython",
    "version": 3
   },
   "file_extension": ".py",
   "mimetype": "text/x-python",
   "name": "python",
   "nbconvert_exporter": "python",
   "pygments_lexer": "ipython3",
   "version": "3.13.5"
  }
 },
 "nbformat": 4,
 "nbformat_minor": 5
}

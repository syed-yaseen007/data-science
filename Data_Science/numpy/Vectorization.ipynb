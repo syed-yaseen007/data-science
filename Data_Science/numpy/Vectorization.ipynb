{
 "cells": [
  {
   "cell_type": "code",
   "execution_count": 12,
   "id": "396c1689-638c-45e1-a02c-d3b732dcf8a8",
   "metadata": {},
   "outputs": [
    {
     "name": "stdout",
     "output_type": "stream",
     "text": [
      "Python list square time: 0.00011968612670898438\n"
     ]
    }
   ],
   "source": [
    "import numpy as np\n",
    "import time\n",
    "list1 = list(range(10))\n",
    "start = time.time()\n",
    "list_square = [x**2 for x in list1]\n",
    "# print(list_square)\n",
    "end = time.time()\n",
    "print(\"Python list square time:\", end - start)"
   ]
  },
  {
   "cell_type": "code",
   "execution_count": 13,
   "id": "64789c8a-d86a-40a7-abeb-9a2d41d227ff",
   "metadata": {},
   "outputs": [
    {
     "name": "stdout",
     "output_type": "stream",
     "text": [
      "Python nu square time: 0.000118255615234375\n"
     ]
    }
   ],
   "source": [
    "arr1 = np.array(list1)\n",
    "start = time.time()\n",
    "square = arr1**2\n",
    "end = time.time()\n",
    "print(\"Python nu square time:\", end - start)"
   ]
  },
  {
   "cell_type": "code",
   "execution_count": null,
   "id": "cbaf9e66-24f8-4064-baa7-2fd6cb50f2b4",
   "metadata": {},
   "outputs": [],
   "source": []
  }
 ],
 "metadata": {
  "kernelspec": {
   "display_name": "Python 3 (ipykernel)",
   "language": "python",
   "name": "python3"
  },
  "language_info": {
   "codemirror_mode": {
    "name": "ipython",
    "version": 3
   },
   "file_extension": ".py",
   "mimetype": "text/x-python",
   "name": "python",
   "nbconvert_exporter": "python",
   "pygments_lexer": "ipython3",
   "version": "3.13.5"
  }
 },
 "nbformat": 4,
 "nbformat_minor": 5
}

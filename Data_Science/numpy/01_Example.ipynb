{
 "cells": [
  {
   "cell_type": "code",
   "execution_count": 1,
   "id": "cc5e8c5e-3025-4632-9891-54471c9c4395",
   "metadata": {},
   "outputs": [],
   "source": [
    "#Create a NumPy array with values from 10 to 100 and print its shape."
   ]
  },
  {
   "cell_type": "code",
   "execution_count": 2,
   "id": "8de71086-32e2-412a-b4b4-49a766d632f5",
   "metadata": {},
   "outputs": [],
   "source": [
    "import numpy as np\n",
    "import time"
   ]
  },
  {
   "cell_type": "code",
   "execution_count": 3,
   "id": "70d3889b-bf38-49ed-91a6-a0aaf369cfc8",
   "metadata": {},
   "outputs": [
    {
     "name": "stdout",
     "output_type": "stream",
     "text": [
      "[10 11 12 13 14 15 16 17 18 19 20 21 22 23 24 25 26 27 28 29 30 31 32 33\n",
      " 34 35 36 37 38 39 40 41 42 43 44 45 46 47 48 49 50 51 52 53 54 55 56 57\n",
      " 58 59 60 61 62 63 64 65 66 67 68 69 70 71 72 73 74 75 76 77 78 79 80 81\n",
      " 82 83 84 85 86 87 88 89 90 91 92 93 94 95 96 97 98 99]\n",
      "shape: (90,)\n"
     ]
    }
   ],
   "source": [
    "list_data = list(range(10,100))\n",
    "arr = np.array(list_data)\n",
    "print(arr)\n",
    "print(\"shape:\",arr.shape)"
   ]
  },
  {
   "cell_type": "code",
   "execution_count": 4,
   "id": "66178f59-e16d-481b-ab12-72086ae84971",
   "metadata": {},
   "outputs": [],
   "source": [
    "# Compare the time taken to multiply two Python lists vs. two NumPy arrays."
   ]
  },
  {
   "cell_type": "code",
   "execution_count": 5,
   "id": "e83350a2-f3df-49f7-8a4d-5c294057338c",
   "metadata": {},
   "outputs": [
    {
     "name": "stdout",
     "output_type": "stream",
     "text": [
      "[1, 4, 9, 16, 25, 36, 49, 64, 81]\n",
      "0.0001709461212158203\n"
     ]
    }
   ],
   "source": [
    "list1 = list(range(1,10))\n",
    "list2 = list(range(1,10))\n",
    "start = time.time()\n",
    "result = [x*y for x,y in zip(list1,list2)]\n",
    "end = time.time()\n",
    "print(result)\n",
    "print(end-start)"
   ]
  },
  {
   "cell_type": "code",
   "execution_count": 6,
   "id": "ce5cdc88-7c64-4abe-ae55-17e7ff61b16e",
   "metadata": {},
   "outputs": [
    {
     "name": "stdout",
     "output_type": "stream",
     "text": [
      "[ 1  4  9 16 25 36 49 64 81]\n",
      "0.00020623207092285156\n"
     ]
    }
   ],
   "source": [
    "arr1 = np.array(list1)\n",
    "arr2 = np.array(list2)\n",
    "start = time.time()\n",
    "result = arr1*arr2\n",
    "end = time.time()\n",
    "print(result)\n",
    "print(end-start)"
   ]
  },
  {
   "cell_type": "code",
   "execution_count": 7,
   "id": "811ee9e3-dbd4-417e-9f2c-6a1ae609e9b8",
   "metadata": {},
   "outputs": [],
   "source": [
    "# Find the memory size of a NumPy array with 1 million elements."
   ]
  },
  {
   "cell_type": "code",
   "execution_count": 8,
   "id": "06cc396f-7de0-4318-897a-d7e10b39d5f3",
   "metadata": {},
   "outputs": [
    {
     "name": "stdout",
     "output_type": "stream",
     "text": [
      "8000000\n"
     ]
    }
   ],
   "source": [
    "list_data = list(range(1_000_000))\n",
    "arr = np.array(list_data)\n",
    "print(arr.nbytes)"
   ]
  }
 ],
 "metadata": {
  "kernelspec": {
   "display_name": "Python 3 (ipykernel)",
   "language": "python",
   "name": "python3"
  },
  "language_info": {
   "codemirror_mode": {
    "name": "ipython",
    "version": 3
   },
   "file_extension": ".py",
   "mimetype": "text/x-python",
   "name": "python",
   "nbconvert_exporter": "python",
   "pygments_lexer": "ipython3",
   "version": "3.13.5"
  }
 },
 "nbformat": 4,
 "nbformat_minor": 5
}

{
 "cells": [
  {
   "cell_type": "code",
   "execution_count": 2,
   "id": "188edeb6-3d9d-4872-894c-faedb7af50d3",
   "metadata": {},
   "outputs": [],
   "source": [
    "import numpy as np\n",
    "arr = np.array([[1,2,3],[4,5,6],[7,8,9],[11,12,13]])"
   ]
  },
  {
   "cell_type": "code",
   "execution_count": 2,
   "id": "5de3f8f0-690a-4928-b60c-cb331d2dd4fa",
   "metadata": {},
   "outputs": [
    {
     "data": {
      "text/plain": [
       "array([[ 1,  2,  3],\n",
       "       [ 4,  5,  6],\n",
       "       [ 7,  8,  9],\n",
       "       [11, 12, 13]])"
      ]
     },
     "execution_count": 2,
     "metadata": {},
     "output_type": "execute_result"
    }
   ],
   "source": [
    "arr"
   ]
  },
  {
   "cell_type": "code",
   "execution_count": 3,
   "id": "7f47eb08-ccda-4891-9e77-54a71b7c2adb",
   "metadata": {},
   "outputs": [
    {
     "name": "stdout",
     "output_type": "stream",
     "text": [
      "10\n",
      "40\n"
     ]
    }
   ],
   "source": [
    "arr = np.array([10, 20, 30, 40])\n",
    "print(arr[0])  # 10\n",
    "print(arr[-1]) # 40"
   ]
  },
  {
   "cell_type": "code",
   "execution_count": 4,
   "id": "5ea8c825-2d29-4b09-afa9-3a3a3efe7167",
   "metadata": {},
   "outputs": [
    {
     "name": "stdout",
     "output_type": "stream",
     "text": [
      "[20 30 40]\n",
      "[10 20 30]\n",
      "[10 30 50]\n"
     ]
    }
   ],
   "source": [
    "arr = np.array([10, 20, 30, 40, 50])\n",
    "\n",
    "print(arr[1:4])  # [20 30 40] (slice from index 1 to 3)\n",
    "print(arr[:3])   # [10 20 30] (first 3 elements)\n",
    "print(arr[::2])  # [10 30 50] (every 2nd element)"
   ]
  },
  {
   "cell_type": "code",
   "execution_count": 5,
   "id": "b1cf9c6e-a790-4d6a-9969-d9ac37430a02",
   "metadata": {},
   "outputs": [
    {
     "name": "stdout",
     "output_type": "stream",
     "text": [
      "[ 10 999  30  40  50]\n"
     ]
    }
   ],
   "source": [
    "sliced = arr[1:4]\n",
    "sliced[0] = 999\n",
    "print(arr)  # [10 999 30 40 50]"
   ]
  },
  {
   "cell_type": "code",
   "execution_count": 6,
   "id": "3cf8998e-86c9-47f7-a6e9-6fa12fe966dc",
   "metadata": {},
   "outputs": [
    {
     "name": "stdout",
     "output_type": "stream",
     "text": [
      "[10 30 50]\n"
     ]
    }
   ],
   "source": [
    "arr = np.array([10, 20, 30, 40, 50])\n",
    "idx = [0, 2, 4]  # Indices to select\n",
    "print(arr[idx])  # [10 30 50]"
   ]
  },
  {
   "cell_type": "code",
   "execution_count": 7,
   "id": "6f8fa262-e04e-4b4f-a28b-d5bb650a0d6c",
   "metadata": {},
   "outputs": [
    {
     "name": "stdout",
     "output_type": "stream",
     "text": [
      "[30 40 50]\n"
     ]
    }
   ],
   "source": [
    "arr = np.array([10, 20, 30, 40, 50])\n",
    "mask = arr > 25  # Condition: values greater than 25\n",
    "print(arr[mask])  # [30 40 50]"
   ]
  },
  {
   "cell_type": "code",
   "execution_count": null,
   "id": "a880e1e0-6a74-4a00-86e3-4392f43286e8",
   "metadata": {},
   "outputs": [],
   "source": []
  }
 ],
 "metadata": {
  "kernelspec": {
   "display_name": "Python 3 (ipykernel)",
   "language": "python",
   "name": "python3"
  },
  "language_info": {
   "codemirror_mode": {
    "name": "ipython",
    "version": 3
   },
   "file_extension": ".py",
   "mimetype": "text/x-python",
   "name": "python",
   "nbconvert_exporter": "python",
   "pygments_lexer": "ipython3",
   "version": "3.13.5"
  }
 },
 "nbformat": 4,
 "nbformat_minor": 5
}

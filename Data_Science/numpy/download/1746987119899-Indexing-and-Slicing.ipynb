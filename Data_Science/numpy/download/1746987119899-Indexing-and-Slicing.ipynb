{
 "cells": [
  {
   "cell_type": "code",
   "execution_count": 2,
   "id": "ede624e8-3d15-45a6-8fb8-1e81848b7a1a",
   "metadata": {},
   "outputs": [],
   "source": [
    "import numpy as np\n",
    "arr = np.array([[1, 2, 3], [4, 5, 6], [7, 8, 9], [11, 12, 13]])"
   ]
  },
  {
   "cell_type": "code",
   "execution_count": 3,
   "id": "d394e7d6-74af-4e12-9df2-9d7b70dcaf31",
   "metadata": {},
   "outputs": [
    {
     "data": {
      "text/plain": [
       "array([[ 1,  2,  3],\n",
       "       [ 4,  5,  6],\n",
       "       [ 7,  8,  9],\n",
       "       [11, 12, 13]])"
      ]
     },
     "execution_count": 3,
     "metadata": {},
     "output_type": "execute_result"
    }
   ],
   "source": [
    "arr"
   ]
  },
  {
   "cell_type": "code",
   "execution_count": 6,
   "id": "37a51eef-9bb7-47c3-a30d-311fcc263599",
   "metadata": {},
   "outputs": [],
   "source": [
    "flat = arr.flatten()"
   ]
  },
  {
   "cell_type": "code",
   "execution_count": 7,
   "id": "113e6681-4cff-4ec4-896d-cc9f7c700c22",
   "metadata": {},
   "outputs": [
    {
     "data": {
      "text/plain": [
       "array([ 1,  2,  3,  4,  5,  6,  7,  8,  9, 11, 12, 13])"
      ]
     },
     "execution_count": 7,
     "metadata": {},
     "output_type": "execute_result"
    }
   ],
   "source": [
    "flat"
   ]
  },
  {
   "cell_type": "code",
   "execution_count": 8,
   "id": "40118f8c-85e7-43dc-93ac-52883ab97dbe",
   "metadata": {},
   "outputs": [
    {
     "data": {
      "text/plain": [
       "1"
      ]
     },
     "execution_count": 8,
     "metadata": {},
     "output_type": "execute_result"
    }
   ],
   "source": [
    "flat[0]"
   ]
  },
  {
   "cell_type": "code",
   "execution_count": 10,
   "id": "403db667-cc59-4a2e-9385-96642c6a70f5",
   "metadata": {},
   "outputs": [
    {
     "data": {
      "text/plain": [
       "array([4, 5, 6])"
      ]
     },
     "execution_count": 10,
     "metadata": {},
     "output_type": "execute_result"
    }
   ],
   "source": [
    "flat[3: 6]"
   ]
  },
  {
   "cell_type": "code",
   "execution_count": 11,
   "id": "12024149-56e2-4203-af51-378a7d86b05e",
   "metadata": {},
   "outputs": [
    {
     "data": {
      "text/plain": [
       "array([1, 2, 3, 4, 5])"
      ]
     },
     "execution_count": 11,
     "metadata": {},
     "output_type": "execute_result"
    }
   ],
   "source": [
    "flat[:5] # same as flat[0:5]"
   ]
  },
  {
   "cell_type": "code",
   "execution_count": 12,
   "id": "57a05f34-c13c-4af0-9562-48d4b5e3f6d8",
   "metadata": {},
   "outputs": [
    {
     "data": {
      "text/plain": [
       "array([ 4,  5,  6,  7,  8,  9, 11, 12, 13])"
      ]
     },
     "execution_count": 12,
     "metadata": {},
     "output_type": "execute_result"
    }
   ],
   "source": [
    "flat[3:] # same as flat[3:13]"
   ]
  },
  {
   "cell_type": "code",
   "execution_count": 13,
   "id": "f339670b-04cd-453c-8e50-ad3520d10d2f",
   "metadata": {},
   "outputs": [
    {
     "data": {
      "text/plain": [
       "array([ 4,  5,  6,  7,  8,  9, 11, 12, 13])"
      ]
     },
     "execution_count": 13,
     "metadata": {},
     "output_type": "execute_result"
    }
   ],
   "source": [
    "flat[3:13]"
   ]
  },
  {
   "cell_type": "code",
   "execution_count": 20,
   "id": "bc31239a-d0da-4b61-8238-d432b0518ac0",
   "metadata": {},
   "outputs": [
    {
     "data": {
      "text/plain": [
       "array([     1,      2,      3, 444444,      5,      6,      7,      8,\n",
       "            9,     11,     12,     13])"
      ]
     },
     "execution_count": 20,
     "metadata": {},
     "output_type": "execute_result"
    }
   ],
   "source": [
    "flat"
   ]
  },
  {
   "cell_type": "code",
   "execution_count": 21,
   "id": "a22bfb4e-3080-4396-b1d6-fa8aa039596e",
   "metadata": {},
   "outputs": [],
   "source": [
    "b = flat[3:7].copy() # This is not a slice because we are using copy method to get the copy"
   ]
  },
  {
   "cell_type": "code",
   "execution_count": 22,
   "id": "edf20cf3-25b4-4d46-9191-e13ffbc41603",
   "metadata": {},
   "outputs": [
    {
     "data": {
      "text/plain": [
       "array([444444,      5,      6,      7])"
      ]
     },
     "execution_count": 22,
     "metadata": {},
     "output_type": "execute_result"
    }
   ],
   "source": [
    "b"
   ]
  },
  {
   "cell_type": "code",
   "execution_count": 24,
   "id": "1d434b07-df3a-494e-af43-5c19dc462ae8",
   "metadata": {},
   "outputs": [],
   "source": [
    "b[0] = 444444666"
   ]
  },
  {
   "cell_type": "code",
   "execution_count": 25,
   "id": "3905bacd-9ee5-4d90-ae99-11a01c9005eb",
   "metadata": {},
   "outputs": [
    {
     "data": {
      "text/plain": [
       "array([444444666,         5,         6,         7])"
      ]
     },
     "execution_count": 25,
     "metadata": {},
     "output_type": "execute_result"
    }
   ],
   "source": [
    "b"
   ]
  },
  {
   "cell_type": "code",
   "execution_count": 26,
   "id": "0fa1da98-1f56-4a2d-a529-36b94917ca35",
   "metadata": {},
   "outputs": [
    {
     "data": {
      "text/plain": [
       "array([     1,      2,      3, 444444,      5,      6,      7,      8,\n",
       "            9,     11,     12,     13])"
      ]
     },
     "execution_count": 26,
     "metadata": {},
     "output_type": "execute_result"
    }
   ],
   "source": [
    "flat"
   ]
  },
  {
   "cell_type": "code",
   "execution_count": 27,
   "id": "3ff0bc6b-b3c0-466e-aff5-40a6be422a66",
   "metadata": {},
   "outputs": [],
   "source": [
    "arr = np.array([1, 54, 23, 53, 2, 3, 34, 5, 6])"
   ]
  },
  {
   "cell_type": "code",
   "execution_count": 28,
   "id": "c2e1c35a-1307-4490-b96a-753b188c6660",
   "metadata": {},
   "outputs": [
    {
     "data": {
      "text/plain": [
       "array([54,  2, 34])"
      ]
     },
     "execution_count": 28,
     "metadata": {},
     "output_type": "execute_result"
    }
   ],
   "source": [
    "arr[[1, 4, 6]]"
   ]
  },
  {
   "cell_type": "code",
   "execution_count": 30,
   "id": "a29a1b79-7d78-459e-9cb5-b68f59b13678",
   "metadata": {},
   "outputs": [
    {
     "data": {
      "text/plain": [
       "array([54, 53, 34])"
      ]
     },
     "execution_count": 30,
     "metadata": {},
     "output_type": "execute_result"
    }
   ],
   "source": [
    "arr[arr>23]"
   ]
  },
  {
   "cell_type": "code",
   "execution_count": null,
   "id": "9087cdef-47a9-412e-9aa4-c9663132efb2",
   "metadata": {},
   "outputs": [],
   "source": []
  }
 ],
 "metadata": {
  "kernelspec": {
   "display_name": "Python [conda env:base] *",
   "language": "python",
   "name": "conda-base-py"
  },
  "language_info": {
   "codemirror_mode": {
    "name": "ipython",
    "version": 3
   },
   "file_extension": ".py",
   "mimetype": "text/x-python",
   "name": "python",
   "nbconvert_exporter": "python",
   "pygments_lexer": "ipython3",
   "version": "3.12.7"
  }
 },
 "nbformat": 4,
 "nbformat_minor": 5
}

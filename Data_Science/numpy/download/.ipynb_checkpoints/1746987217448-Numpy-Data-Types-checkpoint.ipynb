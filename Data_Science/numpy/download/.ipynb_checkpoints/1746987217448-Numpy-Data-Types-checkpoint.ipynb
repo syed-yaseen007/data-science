{
 "cells": [
  {
   "cell_type": "code",
   "execution_count": 1,
   "id": "728cd0c0-0fd6-49b6-9ef3-26f1b599c25f",
   "metadata": {},
   "outputs": [],
   "source": [
    "import numpy as np"
   ]
  },
  {
   "cell_type": "code",
   "execution_count": 2,
   "id": "58a47d63-99d2-4952-a053-75c447b3737a",
   "metadata": {},
   "outputs": [],
   "source": [
    "arr = np.array([23, 4,3,23 ])"
   ]
  },
  {
   "cell_type": "code",
   "execution_count": 3,
   "id": "b49f1fd1-57f4-4c33-800b-ac530be75844",
   "metadata": {},
   "outputs": [
    {
     "data": {
      "text/plain": [
       "dtype('int32')"
      ]
     },
     "execution_count": 3,
     "metadata": {},
     "output_type": "execute_result"
    }
   ],
   "source": [
    "arr.dtype"
   ]
  },
  {
   "cell_type": "code",
   "execution_count": 4,
   "id": "3d995d88-e55e-48a4-99b0-dfcd36213ba2",
   "metadata": {},
   "outputs": [
    {
     "data": {
      "text/plain": [
       "array([23.,  4.,  3., 23.])"
      ]
     },
     "execution_count": 4,
     "metadata": {},
     "output_type": "execute_result"
    }
   ],
   "source": [
    "arr.astype(\"float64\")"
   ]
  },
  {
   "cell_type": "code",
   "execution_count": 5,
   "id": "1713eb04-11a1-4765-9264-22dabd06305b",
   "metadata": {},
   "outputs": [],
   "source": [
    "arr2 = np.array([23, 4,3,23 ], dtype=\"float32\")"
   ]
  },
  {
   "cell_type": "code",
   "execution_count": 6,
   "id": "2baeb029-f772-493f-8549-1342456839ff",
   "metadata": {},
   "outputs": [
    {
     "data": {
      "text/plain": [
       "array([23.,  4.,  3., 23.], dtype=float32)"
      ]
     },
     "execution_count": 6,
     "metadata": {},
     "output_type": "execute_result"
    }
   ],
   "source": [
    "arr2"
   ]
  },
  {
   "cell_type": "code",
   "execution_count": 7,
   "id": "cecba08d-b61c-4d23-9d66-aaad01a4c5e9",
   "metadata": {},
   "outputs": [
    {
     "data": {
      "text/plain": [
       "16"
      ]
     },
     "execution_count": 7,
     "metadata": {},
     "output_type": "execute_result"
    }
   ],
   "source": [
    "arr2.nbytes"
   ]
  },
  {
   "cell_type": "code",
   "execution_count": 8,
   "id": "345a819e-3251-4445-b152-85e3d6ef5f31",
   "metadata": {},
   "outputs": [
    {
     "data": {
      "text/plain": [
       "16"
      ]
     },
     "execution_count": 8,
     "metadata": {},
     "output_type": "execute_result"
    }
   ],
   "source": [
    "arr.nbytes"
   ]
  },
  {
   "cell_type": "code",
   "execution_count": 11,
   "id": "d980666e-eecc-4051-8024-a9fc0d0d35ba",
   "metadata": {},
   "outputs": [
    {
     "name": "stdout",
     "output_type": "stream",
     "text": [
      "24\n",
      "12\n"
     ]
    }
   ],
   "source": [
    "arr_int64 = np.array([1, 2, 3], dtype=np.int64)\n",
    "arr_int32 = np.array([1, 2, 3], dtype=np.int32)\n",
    "print(arr_int64.nbytes) # Output: 24 bytes (3 elements * 8 bytes each)\n",
    "print(arr_int32.nbytes) "
   ]
  },
  {
   "cell_type": "code",
   "execution_count": null,
   "id": "4be3ffe9-4fd2-4d2c-b96c-8c94f062d122",
   "metadata": {},
   "outputs": [],
   "source": []
  }
 ],
 "metadata": {
  "kernelspec": {
   "display_name": "Python [conda env:base] *",
   "language": "python",
   "name": "conda-base-py"
  },
  "language_info": {
   "codemirror_mode": {
    "name": "ipython",
    "version": 3
   },
   "file_extension": ".py",
   "mimetype": "text/x-python",
   "name": "python",
   "nbconvert_exporter": "python",
   "pygments_lexer": "ipython3",
   "version": "3.12.7"
  }
 },
 "nbformat": 4,
 "nbformat_minor": 5
}

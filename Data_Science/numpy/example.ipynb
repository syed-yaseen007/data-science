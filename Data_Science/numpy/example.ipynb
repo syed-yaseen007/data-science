{
 "cells": [
  {
   "cell_type": "code",
   "execution_count": 1,
   "id": "f5b8a517-111b-4079-8f3f-578cd58d8271",
   "metadata": {},
   "outputs": [],
   "source": [
    "# create a 3X3 array filled random numbers and print its shape\n",
    "import numpy as np "
   ]
  },
  {
   "cell_type": "code",
   "execution_count": 3,
   "id": "cc85c951-0ae9-49b4-9460-eb5de50dac2c",
   "metadata": {},
   "outputs": [],
   "source": [
    "arr = np.array([[1,2,4],[5,6,23],[56,45,255]])"
   ]
  },
  {
   "cell_type": "code",
   "execution_count": 4,
   "id": "dced781f-d11c-4430-a256-a724dfd122db",
   "metadata": {},
   "outputs": [
    {
     "data": {
      "text/plain": [
       "array([[  1,   2,   4],\n",
       "       [  5,   6,  23],\n",
       "       [ 56,  45, 255]])"
      ]
     },
     "execution_count": 4,
     "metadata": {},
     "output_type": "execute_result"
    }
   ],
   "source": [
    "arr"
   ]
  },
  {
   "cell_type": "code",
   "execution_count": 5,
   "id": "d606e1d4-d3f6-4d0c-93bf-30542fdcd29f",
   "metadata": {},
   "outputs": [
    {
     "data": {
      "text/plain": [
       "(3, 3)"
      ]
     },
     "execution_count": 5,
     "metadata": {},
     "output_type": "execute_result"
    }
   ],
   "source": [
    "arr.shape"
   ]
  },
  {
   "cell_type": "code",
   "execution_count": 6,
   "id": "5520334f-26e0-467a-a067-2dbe4427f56a",
   "metadata": {},
   "outputs": [],
   "source": [
    "# convert an array of floats "
   ]
  },
  {
   "cell_type": "code",
   "execution_count": 7,
   "id": "1fdb417d-eea7-483f-b833-1711adb67264",
   "metadata": {},
   "outputs": [],
   "source": [
    "arr = np.array([1.1,2.2,3.3])"
   ]
  },
  {
   "cell_type": "code",
   "execution_count": 11,
   "id": "25626542-1f4f-4bf6-85d7-819f9883ba53",
   "metadata": {},
   "outputs": [],
   "source": [
    "arr_int = arr.astype(np.int32)"
   ]
  },
  {
   "cell_type": "code",
   "execution_count": 12,
   "id": "7bd77fe6-1bdc-4051-99ad-ab95c9bf1c89",
   "metadata": {},
   "outputs": [
    {
     "data": {
      "text/plain": [
       "array([1, 2, 3], dtype=int32)"
      ]
     },
     "execution_count": 12,
     "metadata": {},
     "output_type": "execute_result"
    }
   ],
   "source": [
    "arr_int"
   ]
  },
  {
   "cell_type": "code",
   "execution_count": 13,
   "id": "e0dbbdd5-39fc-4c17-a10d-9c54643f3494",
   "metadata": {},
   "outputs": [],
   "source": [
    "# Use fancy indexing to extract even numbers from [1, 2, 3, 4, 5, 6]."
   ]
  },
  {
   "cell_type": "code",
   "execution_count": 14,
   "id": "0de78836-0153-4194-84c2-4661e80c2a09",
   "metadata": {},
   "outputs": [],
   "source": [
    "arr = np.array([1, 2, 3, 4, 5, 6])"
   ]
  },
  {
   "cell_type": "code",
   "execution_count": 15,
   "id": "2fe6dc38-fd72-441c-be25-0e4a2347491d",
   "metadata": {},
   "outputs": [],
   "source": [
    "index = arr%2==0"
   ]
  },
  {
   "cell_type": "code",
   "execution_count": 17,
   "id": "ac3c6781-cd5d-4362-ba8a-1af9657b9bab",
   "metadata": {},
   "outputs": [
    {
     "data": {
      "text/plain": [
       "array([2, 4, 6])"
      ]
     },
     "execution_count": 17,
     "metadata": {},
     "output_type": "execute_result"
    }
   ],
   "source": [
    "arr[index]"
   ]
  },
  {
   "cell_type": "code",
   "execution_count": 18,
   "id": "88ffb3b2-6da1-4b2e-8d01-bcdf95e34309",
   "metadata": {},
   "outputs": [],
   "source": [
    "arr = np.array([1,2,3,4,5,6,7,8,9])"
   ]
  },
  {
   "cell_type": "code",
   "execution_count": 19,
   "id": "5b006ca5-d9ea-4779-accc-c8cfefe1f636",
   "metadata": {},
   "outputs": [],
   "source": [
    "arr_reshaped = arr.reshape((3,3))"
   ]
  },
  {
   "cell_type": "code",
   "execution_count": 20,
   "id": "b35be1e5-3b02-4857-bffb-a4ee8e2bfde3",
   "metadata": {},
   "outputs": [
    {
     "data": {
      "text/plain": [
       "array([[1, 2, 3],\n",
       "       [4, 5, 6],\n",
       "       [7, 8, 9]])"
      ]
     },
     "execution_count": 20,
     "metadata": {},
     "output_type": "execute_result"
    }
   ],
   "source": [
    "arr_reshaped"
   ]
  },
  {
   "cell_type": "code",
   "execution_count": null,
   "id": "fac407ef-51dc-40f5-84f4-106f5e6293c9",
   "metadata": {},
   "outputs": [],
   "source": [
    "# Use boolean masking to filter numbers greater than 50 in an array."
   ]
  },
  {
   "cell_type": "code",
   "execution_count": 22,
   "id": "212f1c8c-8de1-40d4-a9b1-2b5ccebef355",
   "metadata": {},
   "outputs": [],
   "source": [
    "arr = np.array([[100,45,78,89],[122,42,78,9]])"
   ]
  },
  {
   "cell_type": "code",
   "execution_count": 23,
   "id": "49491d8f-622b-459d-a52b-ed53780819b2",
   "metadata": {},
   "outputs": [],
   "source": [
    "boolean = arr>50"
   ]
  },
  {
   "cell_type": "code",
   "execution_count": 24,
   "id": "a0cce16a-fd39-4bb1-984f-3faf88cbe2ec",
   "metadata": {},
   "outputs": [
    {
     "data": {
      "text/plain": [
       "array([100,  78,  89, 122,  78])"
      ]
     },
     "execution_count": 24,
     "metadata": {},
     "output_type": "execute_result"
    }
   ],
   "source": [
    "arr[boolean]"
   ]
  },
  {
   "cell_type": "code",
   "execution_count": 19,
   "id": "53cb113c-7b4e-4c34-a9a2-36306ea437a3",
   "metadata": {},
   "outputs": [],
   "source": [
    "arr = np.arange(1,101)"
   ]
  },
  {
   "cell_type": "code",
   "execution_count": 20,
   "id": "b3b4ec89-9177-4c4f-8eb8-bbcc8f7b7ae2",
   "metadata": {},
   "outputs": [
    {
     "data": {
      "text/plain": [
       "array([  1,   2,   3,   4,   5,   6,   7,   8,   9,  10,  11,  12,  13,\n",
       "        14,  15,  16,  17,  18,  19,  20,  21,  22,  23,  24,  25,  26,\n",
       "        27,  28,  29,  30,  31,  32,  33,  34,  35,  36,  37,  38,  39,\n",
       "        40,  41,  42,  43,  44,  45,  46,  47,  48,  49,  50,  51,  52,\n",
       "        53,  54,  55,  56,  57,  58,  59,  60,  61,  62,  63,  64,  65,\n",
       "        66,  67,  68,  69,  70,  71,  72,  73,  74,  75,  76,  77,  78,\n",
       "        79,  80,  81,  82,  83,  84,  85,  86,  87,  88,  89,  90,  91,\n",
       "        92,  93,  94,  95,  96,  97,  98,  99, 100])"
      ]
     },
     "execution_count": 20,
     "metadata": {},
     "output_type": "execute_result"
    }
   ],
   "source": [
    "arr"
   ]
  },
  {
   "cell_type": "code",
   "execution_count": 21,
   "id": "f55ccaf5-c4e8-447d-8f4d-26ee29f1eeb0",
   "metadata": {},
   "outputs": [
    {
     "data": {
      "text/plain": [
       "array([[  1,   2,   3,   4,   5,   6,   7,   8,   9,  10],\n",
       "       [ 11,  12,  13,  14,  15,  16,  17,  18,  19,  20],\n",
       "       [ 21,  22,  23,  24,  25,  26,  27,  28,  29,  30],\n",
       "       [ 31,  32,  33,  34,  35,  36,  37,  38,  39,  40],\n",
       "       [ 41,  42,  43,  44,  45,  46,  47,  48,  49,  50],\n",
       "       [ 51,  52,  53,  54,  55,  56,  57,  58,  59,  60],\n",
       "       [ 61,  62,  63,  64,  65,  66,  67,  68,  69,  70],\n",
       "       [ 71,  72,  73,  74,  75,  76,  77,  78,  79,  80],\n",
       "       [ 81,  82,  83,  84,  85,  86,  87,  88,  89,  90],\n",
       "       [ 91,  92,  93,  94,  95,  96,  97,  98,  99, 100]])"
      ]
     },
     "execution_count": 21,
     "metadata": {},
     "output_type": "execute_result"
    }
   ],
   "source": [
    "arr.reshape(10,10)"
   ]
  },
  {
   "cell_type": "code",
   "execution_count": 12,
   "id": "80eb27be-ac58-4c2b-85b9-915305561689",
   "metadata": {},
   "outputs": [
    {
     "data": {
      "text/plain": [
       "100"
      ]
     },
     "execution_count": 12,
     "metadata": {},
     "output_type": "execute_result"
    }
   ],
   "source": [
    "arr.size"
   ]
  },
  {
   "cell_type": "code",
   "execution_count": 22,
   "id": "19affea9-9b75-4c89-a87b-3e4d5837a395",
   "metadata": {},
   "outputs": [
    {
     "data": {
      "text/plain": [
       "1"
      ]
     },
     "execution_count": 22,
     "metadata": {},
     "output_type": "execute_result"
    }
   ],
   "source": [
    "arr.ndim"
   ]
  },
  {
   "cell_type": "code",
   "execution_count": 15,
   "id": "6fb87a34-c9c9-4c65-80f4-4f9684580831",
   "metadata": {},
   "outputs": [
    {
     "data": {
      "text/plain": [
       "array([  1,   2,   3,   4,   5,   6,   7,   8,   9,  10,  11,  12,  13,\n",
       "        14,  15,  16,  17,  18,  19,  20,  21,  22,  23,  24,  25,  26,\n",
       "        27,  28,  29,  30,  31,  32,  33,  34,  35,  36,  37,  38,  39,\n",
       "        40,  41,  42,  43,  44,  45,  46,  47,  48,  49,  50,  51,  52,\n",
       "        53,  54,  55,  56,  57,  58,  59,  60,  61,  62,  63,  64,  65,\n",
       "        66,  67,  68,  69,  70,  71,  72,  73,  74,  75,  76,  77,  78,\n",
       "        79,  80,  81,  82,  83,  84,  85,  86,  87,  88,  89,  90,  91,\n",
       "        92,  93,  94,  95,  96,  97,  98,  99, 100])"
      ]
     },
     "execution_count": 15,
     "metadata": {},
     "output_type": "execute_result"
    }
   ],
   "source": [
    "arr.flatten()"
   ]
  },
  {
   "cell_type": "code",
   "execution_count": 16,
   "id": "2832f9e3-503d-4db2-a49b-7c8e24fe7a54",
   "metadata": {},
   "outputs": [],
   "source": [
    "arr = np.array([[10, 20, 30], [40, 50, 60]])\n",
    " "
   ]
  },
  {
   "cell_type": "code",
   "execution_count": 17,
   "id": "ff127f05-830d-426d-a737-971ddd53416e",
   "metadata": {},
   "outputs": [
    {
     "data": {
      "text/plain": [
       "2"
      ]
     },
     "execution_count": 17,
     "metadata": {},
     "output_type": "execute_result"
    }
   ],
   "source": [
    "arr.ndim"
   ]
  },
  {
   "cell_type": "code",
   "execution_count": null,
   "id": "73c9882f-f717-44d4-b99a-26f6b711c442",
   "metadata": {},
   "outputs": [],
   "source": []
  }
 ],
 "metadata": {
  "kernelspec": {
   "display_name": "Python 3 (ipykernel)",
   "language": "python",
   "name": "python3"
  },
  "language_info": {
   "codemirror_mode": {
    "name": "ipython",
    "version": 3
   },
   "file_extension": ".py",
   "mimetype": "text/x-python",
   "name": "python",
   "nbconvert_exporter": "python",
   "pygments_lexer": "ipython3",
   "version": "3.13.5"
  }
 },
 "nbformat": 4,
 "nbformat_minor": 5
}
